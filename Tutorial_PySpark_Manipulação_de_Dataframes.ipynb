{
  "nbformat": 4,
  "nbformat_minor": 0,
  "metadata": {
    "colab": {
      "provenance": [],
      "toc_visible": true,
      "authorship_tag": "ABX9TyMx+dfWQajJ2GdAMU6I7t3z",
      "include_colab_link": true
    },
    "kernelspec": {
      "name": "python3",
      "display_name": "Python 3"
    },
    "language_info": {
      "name": "python"
    }
  },
  "cells": [
    {
      "cell_type": "markdown",
      "metadata": {
        "id": "view-in-github",
        "colab_type": "text"
      },
      "source": [
        "<a href=\"https://colab.research.google.com/github/Deriss/Tutoriais-Big-Data/blob/main/Tutorial_PySpark_Manipula%C3%A7%C3%A3o_de_Dataframes.ipynb\" target=\"_parent\"><img src=\"https://colab.research.google.com/assets/colab-badge.svg\" alt=\"Open In Colab\"/></a>"
      ]
    },
    {
      "cell_type": "markdown",
      "source": [
        "# Tutorial PySpark"
      ],
      "metadata": {
        "id": "NPereKZp-kaN"
      }
    },
    {
      "cell_type": "markdown",
      "source": [
        "O Apache Spark é um mecanismo para a análise e processamento de Big Data. O Spark facilita o processamento distribuido e em paralelo, além de ter uma biblioteca própria para aplicar técnicas de Machine Learning em grandes volumes de dados.\n",
        "Neste tutorial serão apresentadas as funções básicas do PySpark para a manipulação de dados utilizando DataFrames."
      ],
      "metadata": {
        "id": "MbLHs6aWGI-k"
      }
    },
    {
      "cell_type": "markdown",
      "source": [
        "## Dependencias"
      ],
      "metadata": {
        "id": "LM3tg6HlIUcD"
      }
    },
    {
      "cell_type": "markdown",
      "source": [
        "Para poder utilizar o PySpark no Google Colab, primeiro precisamos instalar algumas dependencias"
      ],
      "metadata": {
        "id": "nbrlDyLO-tLq"
      }
    },
    {
      "cell_type": "code",
      "execution_count": null,
      "metadata": {
        "id": "Ugg5xagdfhhs"
      },
      "outputs": [],
      "source": [
        "!apt-get install openjdk-8-jdk-headless -qq > /dev/null # java 8\n",
        "!wget -q http://archive.apache.org/dist/spark/spark-3.3.3/spark-3.3.3-bin-hadoop3.tgz #baixar o spark com Hadoop\n"
      ]
    },
    {
      "cell_type": "code",
      "source": [
        "!tar xf spark-3.3.3-bin-hadoop3.tgz # extrair os archivos do Spark\n",
        "!pip install -q findspark # instalar biblioteca para achar o Spark no sistema"
      ],
      "metadata": {
        "id": "c2TFlGnl4CIi"
      },
      "execution_count": null,
      "outputs": []
    },
    {
      "cell_type": "code",
      "source": [
        "# Criando as variáveis de ambiente\n",
        "import os\n",
        "os.environ[\"JAVA_HOME\"] = \"/usr/lib/jvm/java-8-openjdk-amd64\"\n",
        "os.environ[\"SPARK_HOME\"] = \"/content/spark-3.3.3-bin-hadoop3\""
      ],
      "metadata": {
        "id": "GoVJLQE3gFk7"
      },
      "execution_count": null,
      "outputs": []
    },
    {
      "cell_type": "markdown",
      "source": [
        "# Inicializar o PySpark"
      ],
      "metadata": {
        "id": "Xbpt5G5sIsnG"
      }
    },
    {
      "cell_type": "markdown",
      "source": [
        "Para testar o PySpark criaremos uma sesão local"
      ],
      "metadata": {
        "id": "VoGF54XnIwbY"
      }
    },
    {
      "cell_type": "code",
      "source": [
        "# iniciando uma sessão local\n",
        "import findspark\n",
        "findspark.init()\n",
        "from pyspark.sql import SparkSession\n",
        "spark = SparkSession.builder.master(\"local[*]\").getOrCreate()  # O  * em local[*] indica que vamos utilizar todas as unidades de processamento disponíveis\n",
        "spark.conf.set(\"spark.sql.repl.eagerEval.enabled\", True) # Property used to format output tables better\n",
        "spark"
      ],
      "metadata": {
        "colab": {
          "base_uri": "https://localhost:8080/",
          "height": 219
        },
        "id": "2MdO1_dJgTUy",
        "outputId": "58c4c429-e758-42ed-b812-e652b82a8da2"
      },
      "execution_count": null,
      "outputs": [
        {
          "output_type": "execute_result",
          "data": {
            "text/plain": [
              "<pyspark.sql.session.SparkSession at 0x795283885210>"
            ],
            "text/html": [
              "\n",
              "            <div>\n",
              "                <p><b>SparkSession - in-memory</b></p>\n",
              "                \n",
              "        <div>\n",
              "            <p><b>SparkContext</b></p>\n",
              "\n",
              "            <p><a href=\"http://fb6966d4cf5b:4040\">Spark UI</a></p>\n",
              "\n",
              "            <dl>\n",
              "              <dt>Version</dt>\n",
              "                <dd><code>v3.3.3</code></dd>\n",
              "              <dt>Master</dt>\n",
              "                <dd><code>local[*]</code></dd>\n",
              "              <dt>AppName</dt>\n",
              "                <dd><code>pyspark-shell</code></dd>\n",
              "            </dl>\n",
              "        </div>\n",
              "        \n",
              "            </div>\n",
              "        "
            ]
          },
          "metadata": {},
          "execution_count": 10
        }
      ]
    },
    {
      "cell_type": "markdown",
      "source": [
        "# Carregar dados"
      ],
      "metadata": {
        "id": "OIC8R00sKBuv"
      }
    },
    {
      "cell_type": "markdown",
      "source": [
        "Podemos carregar dados de diferentes fontes. Nesse tutorial vamos trabalhar com dados de exemplo do Spark disponibilizados em um arquivo csv."
      ],
      "metadata": {
        "id": "-lOIcSxxKEQA"
      }
    },
    {
      "cell_type": "code",
      "source": [
        "\n",
        "# carregar dados exemplo\n",
        "df_spark = spark.read.csv(\"./sample_data/california_housing_train.csv\", inferSchema=True, header=True)\n",
        "\n",
        "# ver o Schema indicando os tipos de dados de cada coluna\n",
        "df_spark.printSchema()"
      ],
      "metadata": {
        "colab": {
          "base_uri": "https://localhost:8080/"
        },
        "id": "z2T5oErpg1en",
        "outputId": "f4f5bf98-58cb-4db9-8a11-11d6f8f99a24"
      },
      "execution_count": null,
      "outputs": [
        {
          "output_type": "stream",
          "name": "stdout",
          "text": [
            "root\n",
            " |-- longitude: double (nullable = true)\n",
            " |-- latitude: double (nullable = true)\n",
            " |-- housing_median_age: double (nullable = true)\n",
            " |-- total_rooms: double (nullable = true)\n",
            " |-- total_bedrooms: double (nullable = true)\n",
            " |-- population: double (nullable = true)\n",
            " |-- households: double (nullable = true)\n",
            " |-- median_income: double (nullable = true)\n",
            " |-- median_house_value: double (nullable = true)\n",
            "\n"
          ]
        }
      ]
    },
    {
      "cell_type": "markdown",
      "source": [
        "# Exploração do dataset"
      ],
      "metadata": {
        "id": "PNKmSMwa_vM0"
      }
    },
    {
      "cell_type": "markdown",
      "source": [
        "Como o PySpark é focado em análise de grandes volumes de dados, o ideal é visualizar só uma parte do Dataframe para evitar problemas de memória. Existem diferentes métodos que podemos utilizar para obter algumas linhas do Dataframe."
      ],
      "metadata": {
        "id": "JkspuDLxLg3q"
      }
    },
    {
      "cell_type": "markdown",
      "source": [
        "O método `take(n)` retorna as primeiras n linhas do Dataframe"
      ],
      "metadata": {
        "id": "GGiQEe7rLrwD"
      }
    },
    {
      "cell_type": "code",
      "source": [
        "df_spark.take(5)"
      ],
      "metadata": {
        "colab": {
          "base_uri": "https://localhost:8080/"
        },
        "id": "5DCRyjFChnO3",
        "outputId": "33e3772e-2be3-4b2c-aa56-af7e6eca5be6"
      },
      "execution_count": null,
      "outputs": [
        {
          "output_type": "execute_result",
          "data": {
            "text/plain": [
              "[Row(longitude=-114.31, latitude=34.19, housing_median_age=15.0, total_rooms=5612.0, total_bedrooms=1283.0, population=1015.0, households=472.0, median_income=1.4936, median_house_value=66900.0),\n",
              " Row(longitude=-114.47, latitude=34.4, housing_median_age=19.0, total_rooms=7650.0, total_bedrooms=1901.0, population=1129.0, households=463.0, median_income=1.82, median_house_value=80100.0),\n",
              " Row(longitude=-114.56, latitude=33.69, housing_median_age=17.0, total_rooms=720.0, total_bedrooms=174.0, population=333.0, households=117.0, median_income=1.6509, median_house_value=85700.0),\n",
              " Row(longitude=-114.57, latitude=33.64, housing_median_age=14.0, total_rooms=1501.0, total_bedrooms=337.0, population=515.0, households=226.0, median_income=3.1917, median_house_value=73400.0),\n",
              " Row(longitude=-114.57, latitude=33.57, housing_median_age=20.0, total_rooms=1454.0, total_bedrooms=326.0, population=624.0, households=262.0, median_income=1.925, median_house_value=65500.0)]"
            ]
          },
          "metadata": {},
          "execution_count": 12
        }
      ]
    },
    {
      "cell_type": "markdown",
      "source": [
        "O método `show()` pode ser utilizado para visualizar as primeiras n linhas em forma de tabela."
      ],
      "metadata": {
        "id": "_16Ihl0YMVh4"
      }
    },
    {
      "cell_type": "code",
      "source": [
        "df_spark.show(5)"
      ],
      "metadata": {
        "id": "QRbQA7d-IUVp",
        "colab": {
          "base_uri": "https://localhost:8080/"
        },
        "outputId": "dfadb84d-b0e0-430b-c2ed-4f340a010326"
      },
      "execution_count": null,
      "outputs": [
        {
          "output_type": "stream",
          "name": "stdout",
          "text": [
            "+---------+--------+------------------+-----------+--------------+----------+----------+-------------+------------------+\n",
            "|longitude|latitude|housing_median_age|total_rooms|total_bedrooms|population|households|median_income|median_house_value|\n",
            "+---------+--------+------------------+-----------+--------------+----------+----------+-------------+------------------+\n",
            "|  -114.31|   34.19|              15.0|     5612.0|        1283.0|    1015.0|     472.0|       1.4936|           66900.0|\n",
            "|  -114.47|    34.4|              19.0|     7650.0|        1901.0|    1129.0|     463.0|         1.82|           80100.0|\n",
            "|  -114.56|   33.69|              17.0|      720.0|         174.0|     333.0|     117.0|       1.6509|           85700.0|\n",
            "|  -114.57|   33.64|              14.0|     1501.0|         337.0|     515.0|     226.0|       3.1917|           73400.0|\n",
            "|  -114.57|   33.57|              20.0|     1454.0|         326.0|     624.0|     262.0|        1.925|           65500.0|\n",
            "+---------+--------+------------------+-----------+--------------+----------+----------+-------------+------------------+\n",
            "only showing top 5 rows\n",
            "\n"
          ]
        }
      ]
    },
    {
      "cell_type": "markdown",
      "source": [
        "O método `collect()` é utilizado para retornar todos os elementos de um DataFrame. Por esse motivo, só deve ser utilizado para DataFrames pequenos, geralmente depois de ter processado os dados iniciais para evitar problemas de falta de memória. Também podemos utilizar ele para obter só algumas linhas."
      ],
      "metadata": {
        "id": "qbYyqSi1IVux"
      }
    },
    {
      "cell_type": "code",
      "source": [
        "# Obter a primeira linha do dataframe utilizando o collect()\n",
        "df_spark.collect()[0]\n"
      ],
      "metadata": {
        "colab": {
          "base_uri": "https://localhost:8080/"
        },
        "id": "QKsspbLzIDma",
        "outputId": "05f71fd6-9603-4902-bf47-219d82fff6cb"
      },
      "execution_count": null,
      "outputs": [
        {
          "output_type": "execute_result",
          "data": {
            "text/plain": [
              "Row(longitude=-114.31, latitude=34.19, housing_median_age=15.0, total_rooms=5612.0, total_bedrooms=1283.0, population=1015.0, households=472.0, median_income=1.4936, median_house_value=66900.0)"
            ]
          },
          "metadata": {},
          "execution_count": 15
        }
      ]
    },
    {
      "cell_type": "code",
      "source": [
        "# Obter as três primeiras linhas do dataframe utilizando o collect()\n",
        "df_spark.collect()[0:3]"
      ],
      "metadata": {
        "colab": {
          "base_uri": "https://localhost:8080/"
        },
        "id": "7nXlpHsVJO-g",
        "outputId": "30591707-627e-4bea-a649-c6a74ecb4b1a"
      },
      "execution_count": null,
      "outputs": [
        {
          "output_type": "execute_result",
          "data": {
            "text/plain": [
              "[Row(longitude=-114.31, latitude=34.19, housing_median_age=15.0, total_rooms=5612.0, total_bedrooms=1283.0, population=1015.0, households=472.0, median_income=1.4936, median_house_value=66900.0),\n",
              " Row(longitude=-114.47, latitude=34.4, housing_median_age=19.0, total_rooms=7650.0, total_bedrooms=1901.0, population=1129.0, households=463.0, median_income=1.82, median_house_value=80100.0),\n",
              " Row(longitude=-114.56, latitude=33.69, housing_median_age=17.0, total_rooms=720.0, total_bedrooms=174.0, population=333.0, households=117.0, median_income=1.6509, median_house_value=85700.0)]"
            ]
          },
          "metadata": {},
          "execution_count": 16
        }
      ]
    },
    {
      "cell_type": "code",
      "source": [
        "# Obter as três primeiras colunas da primeira linha do dataframe utilizando o collect()\n",
        "df_spark.collect()[1][0:3]"
      ],
      "metadata": {
        "colab": {
          "base_uri": "https://localhost:8080/"
        },
        "id": "HHBtgQHVJVam",
        "outputId": "b77e96ca-121a-481b-f21b-44babd4b5a84"
      },
      "execution_count": null,
      "outputs": [
        {
          "output_type": "execute_result",
          "data": {
            "text/plain": [
              "(-114.47, 34.4, 19.0)"
            ]
          },
          "metadata": {},
          "execution_count": 17
        }
      ]
    },
    {
      "cell_type": "markdown",
      "source": [
        "# Seleção de variáveis"
      ],
      "metadata": {
        "id": "PyMma7QuNSiM"
      }
    },
    {
      "cell_type": "markdown",
      "source": [
        "Para selecionar só algumas variáveis do Dataframe podemos utilizar o método `select()` com diferentes formas para determinar as variáveis:"
      ],
      "metadata": {
        "id": "-0JUm1CMNusQ"
      }
    },
    {
      "cell_type": "code",
      "source": [
        "df_spark.select('housing_median_age').show(5)"
      ],
      "metadata": {
        "colab": {
          "base_uri": "https://localhost:8080/"
        },
        "id": "byQWfn7qH-UT",
        "outputId": "92565cd2-0d5d-461b-aef3-0507fb308650"
      },
      "execution_count": null,
      "outputs": [
        {
          "output_type": "stream",
          "name": "stdout",
          "text": [
            "+------------------+\n",
            "|housing_median_age|\n",
            "+------------------+\n",
            "|              15.0|\n",
            "|              19.0|\n",
            "|              17.0|\n",
            "|              14.0|\n",
            "|              20.0|\n",
            "+------------------+\n",
            "only showing top 5 rows\n",
            "\n"
          ]
        }
      ]
    },
    {
      "cell_type": "code",
      "source": [
        "from pyspark.sql.functions import col\n",
        "df_spark.select(col('housing_median_age')).show(5)"
      ],
      "metadata": {
        "colab": {
          "base_uri": "https://localhost:8080/"
        },
        "id": "QATEY_jNNcgw",
        "outputId": "34af74af-56e6-4b9c-cc21-589b39f560e3"
      },
      "execution_count": null,
      "outputs": [
        {
          "output_type": "stream",
          "name": "stdout",
          "text": [
            "+------------------+\n",
            "|housing_median_age|\n",
            "+------------------+\n",
            "|              15.0|\n",
            "|              19.0|\n",
            "|              17.0|\n",
            "|              14.0|\n",
            "|              20.0|\n",
            "+------------------+\n",
            "only showing top 5 rows\n",
            "\n"
          ]
        }
      ]
    },
    {
      "cell_type": "code",
      "source": [
        "from pyspark.sql.functions import col\n",
        "df_spark.select(df_spark.housing_median_age).show(5)"
      ],
      "metadata": {
        "colab": {
          "base_uri": "https://localhost:8080/"
        },
        "id": "zxiEqm63TxWa",
        "outputId": "331d7681-9dec-40cc-e8ba-bc9643148062"
      },
      "execution_count": null,
      "outputs": [
        {
          "output_type": "stream",
          "name": "stdout",
          "text": [
            "+------------------+\n",
            "|housing_median_age|\n",
            "+------------------+\n",
            "|              15.0|\n",
            "|              19.0|\n",
            "|              17.0|\n",
            "|              14.0|\n",
            "|              20.0|\n",
            "+------------------+\n",
            "only showing top 5 rows\n",
            "\n"
          ]
        }
      ]
    },
    {
      "cell_type": "markdown",
      "source": [
        "Podemos selecionar mais de uma variável utilizando virgulas para separar o nome de cada variável"
      ],
      "metadata": {
        "id": "dJuSojRZT-04"
      }
    },
    {
      "cell_type": "code",
      "source": [
        "df_spark.select('housing_median_age','population').show(5)"
      ],
      "metadata": {
        "colab": {
          "base_uri": "https://localhost:8080/"
        },
        "id": "NO2qNJEhLGpf",
        "outputId": "e1d81944-d495-42fd-d4e2-2abf9b711822"
      },
      "execution_count": null,
      "outputs": [
        {
          "output_type": "stream",
          "name": "stdout",
          "text": [
            "+------------------+----------+\n",
            "|housing_median_age|population|\n",
            "+------------------+----------+\n",
            "|              15.0|    1015.0|\n",
            "|              19.0|    1129.0|\n",
            "|              17.0|     333.0|\n",
            "|              14.0|     515.0|\n",
            "|              20.0|     624.0|\n",
            "+------------------+----------+\n",
            "only showing top 5 rows\n",
            "\n"
          ]
        }
      ]
    },
    {
      "cell_type": "markdown",
      "source": [
        "# Filtrar o Dataframe"
      ],
      "metadata": {
        "id": "0d19b61cUXTu"
      }
    },
    {
      "cell_type": "markdown",
      "source": [
        "Podemos filtrar as linhas de um dataset utilizando o método `filter()` ou o método `where()`. Os dois métodos funcionam da mesma forma."
      ],
      "metadata": {
        "id": "wFJWGsl0UZir"
      }
    },
    {
      "cell_type": "code",
      "source": [
        "df_spark.filter(df_spark['housing_median_age'] == 14.0).show(5)"
      ],
      "metadata": {
        "colab": {
          "base_uri": "https://localhost:8080/"
        },
        "id": "sbikXLusPBEM",
        "outputId": "e630f2fa-0b4f-4430-99ad-6e9f3f59593c"
      },
      "execution_count": null,
      "outputs": [
        {
          "output_type": "stream",
          "name": "stdout",
          "text": [
            "+---------+--------+------------------+-----------+--------------+----------+----------+-------------+------------------+\n",
            "|longitude|latitude|housing_median_age|total_rooms|total_bedrooms|population|households|median_income|median_house_value|\n",
            "+---------+--------+------------------+-----------+--------------+----------+----------+-------------+------------------+\n",
            "|  -114.57|   33.64|              14.0|     1501.0|         337.0|     515.0|     226.0|       3.1917|           73400.0|\n",
            "|  -115.37|   32.82|              14.0|     1276.0|         270.0|     867.0|     261.0|       1.9375|           80900.0|\n",
            "|  -115.53|   32.73|              14.0|     1527.0|         325.0|    1453.0|     332.0|        1.735|           61200.0|\n",
            "|  -115.58|   32.79|              14.0|     1687.0|         507.0|     762.0|     451.0|       1.6635|           64400.0|\n",
            "|  -116.22|    36.0|              14.0|     1372.0|         386.0|     436.0|     213.0|       1.1471|           32900.0|\n",
            "+---------+--------+------------------+-----------+--------------+----------+----------+-------------+------------------+\n",
            "only showing top 5 rows\n",
            "\n"
          ]
        }
      ]
    },
    {
      "cell_type": "code",
      "source": [
        "df_spark.where(df_spark['housing_median_age'] < 15.0).show(5)"
      ],
      "metadata": {
        "colab": {
          "base_uri": "https://localhost:8080/"
        },
        "id": "9dRVuAuKLVP_",
        "outputId": "1a7fdb5d-074f-4afa-80a9-44a86b5fd42d"
      },
      "execution_count": null,
      "outputs": [
        {
          "output_type": "stream",
          "name": "stdout",
          "text": [
            "+---------+--------+------------------+-----------+--------------+----------+----------+-------------+------------------+\n",
            "|longitude|latitude|housing_median_age|total_rooms|total_bedrooms|population|households|median_income|median_house_value|\n",
            "+---------+--------+------------------+-----------+--------------+----------+----------+-------------+------------------+\n",
            "|  -114.57|   33.64|              14.0|     1501.0|         337.0|     515.0|     226.0|       3.1917|           73400.0|\n",
            "|  -115.37|   32.82|              14.0|     1276.0|         270.0|     867.0|     261.0|       1.9375|           80900.0|\n",
            "|   -115.5|   32.75|              13.0|      330.0|          72.0|     822.0|      64.0|       3.4107|          142500.0|\n",
            "|  -115.51|   32.68|              11.0|     2872.0|         610.0|    2644.0|     581.0|        2.625|           72700.0|\n",
            "|  -115.52|   32.97|              10.0|     1879.0|         387.0|    1376.0|     337.0|       1.9911|           67500.0|\n",
            "+---------+--------+------------------+-----------+--------------+----------+----------+-------------+------------------+\n",
            "only showing top 5 rows\n",
            "\n"
          ]
        }
      ]
    },
    {
      "cell_type": "markdown",
      "source": [
        "# Criar novas variáveis"
      ],
      "metadata": {
        "id": "eZCx-4JsZIBk"
      }
    },
    {
      "cell_type": "markdown",
      "source": [
        "Para criar novas variáveis a partir de outras variáveis do Dataframe, podemos utilizar o método `withColumn()` que possui dois parâmetros: o nome da (nova) coluna e a função a aplicar para gerar a nova coluna"
      ],
      "metadata": {
        "id": "8wwJlAHRd76G"
      }
    },
    {
      "cell_type": "code",
      "source": [
        "from pyspark.sql.functions import col"
      ],
      "metadata": {
        "id": "i4VsIR55QeCw"
      },
      "execution_count": null,
      "outputs": []
    },
    {
      "cell_type": "code",
      "source": [
        "# Criar nova variável\n",
        "df_spark = df_spark.withColumn('mean_people_per_household', col('population')/col('households'))\n",
        "df_spark.show(5)"
      ],
      "metadata": {
        "colab": {
          "base_uri": "https://localhost:8080/"
        },
        "id": "uyqT9dpjGS_t",
        "outputId": "718eda56-2ba7-41fe-a911-f81d42a46e90"
      },
      "execution_count": null,
      "outputs": [
        {
          "output_type": "stream",
          "name": "stdout",
          "text": [
            "+---------+--------+------------------+-----------+--------------+----------+----------+-------------+------------------+-------------------------+\n",
            "|longitude|latitude|housing_median_age|total_rooms|total_bedrooms|population|households|median_income|median_house_value|mean_people_per_household|\n",
            "+---------+--------+------------------+-----------+--------------+----------+----------+-------------+------------------+-------------------------+\n",
            "|  -114.31|   34.19|              15.0|     5612.0|        1283.0|    1015.0|     472.0|       1.4936|           66900.0|       2.1504237288135593|\n",
            "|  -114.47|    34.4|              19.0|     7650.0|        1901.0|    1129.0|     463.0|         1.82|           80100.0|       2.4384449244060473|\n",
            "|  -114.56|   33.69|              17.0|      720.0|         174.0|     333.0|     117.0|       1.6509|           85700.0|       2.8461538461538463|\n",
            "|  -114.57|   33.64|              14.0|     1501.0|         337.0|     515.0|     226.0|       3.1917|           73400.0|       2.2787610619469025|\n",
            "|  -114.57|   33.57|              20.0|     1454.0|         326.0|     624.0|     262.0|        1.925|           65500.0|        2.381679389312977|\n",
            "+---------+--------+------------------+-----------+--------------+----------+----------+-------------+------------------+-------------------------+\n",
            "only showing top 5 rows\n",
            "\n"
          ]
        }
      ]
    },
    {
      "cell_type": "markdown",
      "source": [
        "Para criar uma nova coluna com um único valor,é preciso usar a função lit() com o valor a adicionar como parâmetro"
      ],
      "metadata": {
        "id": "UjgOlbzWlTw6"
      }
    },
    {
      "cell_type": "code",
      "source": [
        "# Criando uma coluna de 0\n",
        "from pyspark.sql.functions import lit\n",
        "df_spark.withColumn('zeros_column', lit(0))"
      ],
      "metadata": {
        "colab": {
          "base_uri": "https://localhost:8080/",
          "height": 549
        },
        "id": "gxRfU-xiGSyw",
        "outputId": "227d099d-3c36-4333-b388-5631ae82dfbc"
      },
      "execution_count": 34,
      "outputs": [
        {
          "output_type": "execute_result",
          "data": {
            "text/plain": [
              "+---------+--------+------------------+-----------+--------------+----------+----------+-------------+------------------+-------------------------+------------+\n",
              "|longitude|latitude|housing_median_age|total_rooms|total_bedrooms|population|households|median_income|median_house_value|mean_people_per_household|zeros_column|\n",
              "+---------+--------+------------------+-----------+--------------+----------+----------+-------------+------------------+-------------------------+------------+\n",
              "|  -114.31|   34.19|              15.0|     5612.0|        1283.0|    1015.0|     472.0|       1.4936|           66900.0|       2.1504237288135593|           0|\n",
              "|  -114.47|    34.4|              19.0|     7650.0|        1901.0|    1129.0|     463.0|         1.82|           80100.0|       2.4384449244060473|           0|\n",
              "|  -114.56|   33.69|              17.0|      720.0|         174.0|     333.0|     117.0|       1.6509|           85700.0|       2.8461538461538463|           0|\n",
              "|  -114.57|   33.64|              14.0|     1501.0|         337.0|     515.0|     226.0|       3.1917|           73400.0|       2.2787610619469025|           0|\n",
              "|  -114.57|   33.57|              20.0|     1454.0|         326.0|     624.0|     262.0|        1.925|           65500.0|        2.381679389312977|           0|\n",
              "|  -114.58|   33.63|              29.0|     1387.0|         236.0|     671.0|     239.0|       3.3438|           74000.0|        2.807531380753138|           0|\n",
              "|  -114.58|   33.61|              25.0|     2907.0|         680.0|    1841.0|     633.0|       2.6768|           82400.0|       2.9083728278041074|           0|\n",
              "|  -114.59|   34.83|              41.0|      812.0|         168.0|     375.0|     158.0|       1.7083|           48500.0|       2.3734177215189876|           0|\n",
              "|  -114.59|   33.61|              34.0|     4789.0|        1175.0|    3134.0|    1056.0|       2.1782|           58400.0|       2.9678030303030303|           0|\n",
              "|   -114.6|   34.83|              46.0|     1497.0|         309.0|     787.0|     271.0|       2.1908|           48100.0|        2.904059040590406|           0|\n",
              "|   -114.6|   33.62|              16.0|     3741.0|         801.0|    2434.0|     824.0|       2.6797|           86500.0|        2.953883495145631|           0|\n",
              "|   -114.6|    33.6|              21.0|     1988.0|         483.0|    1182.0|     437.0|        1.625|           62000.0|       2.7048054919908466|           0|\n",
              "|  -114.61|   34.84|              48.0|     1291.0|         248.0|     580.0|     211.0|       2.1571|           48600.0|        2.748815165876777|           0|\n",
              "|  -114.61|   34.83|              31.0|     2478.0|         464.0|    1346.0|     479.0|        3.212|           70400.0|       2.8100208768267225|           0|\n",
              "|  -114.63|   32.76|              15.0|     1448.0|         378.0|     949.0|     300.0|       0.8585|           45000.0|       3.1633333333333336|           0|\n",
              "|  -114.65|   34.89|              17.0|     2556.0|         587.0|    1005.0|     401.0|       1.6991|           69100.0|        2.506234413965087|           0|\n",
              "|  -114.65|    33.6|              28.0|     1678.0|         322.0|     666.0|     256.0|       2.9653|           94900.0|                2.6015625|           0|\n",
              "|  -114.65|   32.79|              21.0|       44.0|          33.0|      64.0|      27.0|       0.8571|           25000.0|       2.3703703703703702|           0|\n",
              "|  -114.66|   32.74|              17.0|     1388.0|         386.0|     775.0|     320.0|       1.2049|           44000.0|                 2.421875|           0|\n",
              "|  -114.67|   33.92|              17.0|       97.0|          24.0|      29.0|      15.0|       1.2656|           27500.0|       1.9333333333333333|           0|\n",
              "+---------+--------+------------------+-----------+--------------+----------+----------+-------------+------------------+-------------------------+------------+\n",
              "only showing top 20 rows"
            ],
            "text/html": [
              "<table border='1'>\n",
              "<tr><th>longitude</th><th>latitude</th><th>housing_median_age</th><th>total_rooms</th><th>total_bedrooms</th><th>population</th><th>households</th><th>median_income</th><th>median_house_value</th><th>mean_people_per_household</th><th>zeros_column</th></tr>\n",
              "<tr><td>-114.31</td><td>34.19</td><td>15.0</td><td>5612.0</td><td>1283.0</td><td>1015.0</td><td>472.0</td><td>1.4936</td><td>66900.0</td><td>2.1504237288135593</td><td>0</td></tr>\n",
              "<tr><td>-114.47</td><td>34.4</td><td>19.0</td><td>7650.0</td><td>1901.0</td><td>1129.0</td><td>463.0</td><td>1.82</td><td>80100.0</td><td>2.4384449244060473</td><td>0</td></tr>\n",
              "<tr><td>-114.56</td><td>33.69</td><td>17.0</td><td>720.0</td><td>174.0</td><td>333.0</td><td>117.0</td><td>1.6509</td><td>85700.0</td><td>2.8461538461538463</td><td>0</td></tr>\n",
              "<tr><td>-114.57</td><td>33.64</td><td>14.0</td><td>1501.0</td><td>337.0</td><td>515.0</td><td>226.0</td><td>3.1917</td><td>73400.0</td><td>2.2787610619469025</td><td>0</td></tr>\n",
              "<tr><td>-114.57</td><td>33.57</td><td>20.0</td><td>1454.0</td><td>326.0</td><td>624.0</td><td>262.0</td><td>1.925</td><td>65500.0</td><td>2.381679389312977</td><td>0</td></tr>\n",
              "<tr><td>-114.58</td><td>33.63</td><td>29.0</td><td>1387.0</td><td>236.0</td><td>671.0</td><td>239.0</td><td>3.3438</td><td>74000.0</td><td>2.807531380753138</td><td>0</td></tr>\n",
              "<tr><td>-114.58</td><td>33.61</td><td>25.0</td><td>2907.0</td><td>680.0</td><td>1841.0</td><td>633.0</td><td>2.6768</td><td>82400.0</td><td>2.9083728278041074</td><td>0</td></tr>\n",
              "<tr><td>-114.59</td><td>34.83</td><td>41.0</td><td>812.0</td><td>168.0</td><td>375.0</td><td>158.0</td><td>1.7083</td><td>48500.0</td><td>2.3734177215189876</td><td>0</td></tr>\n",
              "<tr><td>-114.59</td><td>33.61</td><td>34.0</td><td>4789.0</td><td>1175.0</td><td>3134.0</td><td>1056.0</td><td>2.1782</td><td>58400.0</td><td>2.9678030303030303</td><td>0</td></tr>\n",
              "<tr><td>-114.6</td><td>34.83</td><td>46.0</td><td>1497.0</td><td>309.0</td><td>787.0</td><td>271.0</td><td>2.1908</td><td>48100.0</td><td>2.904059040590406</td><td>0</td></tr>\n",
              "<tr><td>-114.6</td><td>33.62</td><td>16.0</td><td>3741.0</td><td>801.0</td><td>2434.0</td><td>824.0</td><td>2.6797</td><td>86500.0</td><td>2.953883495145631</td><td>0</td></tr>\n",
              "<tr><td>-114.6</td><td>33.6</td><td>21.0</td><td>1988.0</td><td>483.0</td><td>1182.0</td><td>437.0</td><td>1.625</td><td>62000.0</td><td>2.7048054919908466</td><td>0</td></tr>\n",
              "<tr><td>-114.61</td><td>34.84</td><td>48.0</td><td>1291.0</td><td>248.0</td><td>580.0</td><td>211.0</td><td>2.1571</td><td>48600.0</td><td>2.748815165876777</td><td>0</td></tr>\n",
              "<tr><td>-114.61</td><td>34.83</td><td>31.0</td><td>2478.0</td><td>464.0</td><td>1346.0</td><td>479.0</td><td>3.212</td><td>70400.0</td><td>2.8100208768267225</td><td>0</td></tr>\n",
              "<tr><td>-114.63</td><td>32.76</td><td>15.0</td><td>1448.0</td><td>378.0</td><td>949.0</td><td>300.0</td><td>0.8585</td><td>45000.0</td><td>3.1633333333333336</td><td>0</td></tr>\n",
              "<tr><td>-114.65</td><td>34.89</td><td>17.0</td><td>2556.0</td><td>587.0</td><td>1005.0</td><td>401.0</td><td>1.6991</td><td>69100.0</td><td>2.506234413965087</td><td>0</td></tr>\n",
              "<tr><td>-114.65</td><td>33.6</td><td>28.0</td><td>1678.0</td><td>322.0</td><td>666.0</td><td>256.0</td><td>2.9653</td><td>94900.0</td><td>2.6015625</td><td>0</td></tr>\n",
              "<tr><td>-114.65</td><td>32.79</td><td>21.0</td><td>44.0</td><td>33.0</td><td>64.0</td><td>27.0</td><td>0.8571</td><td>25000.0</td><td>2.3703703703703702</td><td>0</td></tr>\n",
              "<tr><td>-114.66</td><td>32.74</td><td>17.0</td><td>1388.0</td><td>386.0</td><td>775.0</td><td>320.0</td><td>1.2049</td><td>44000.0</td><td>2.421875</td><td>0</td></tr>\n",
              "<tr><td>-114.67</td><td>33.92</td><td>17.0</td><td>97.0</td><td>24.0</td><td>29.0</td><td>15.0</td><td>1.2656</td><td>27500.0</td><td>1.9333333333333333</td><td>0</td></tr>\n",
              "</table>\n",
              "only showing top 20 rows\n"
            ]
          },
          "metadata": {},
          "execution_count": 34
        }
      ]
    },
    {
      "cell_type": "markdown",
      "source": [
        "# Mudar o nome de uma variável"
      ],
      "metadata": {
        "id": "1fCeEdCOloII"
      }
    },
    {
      "cell_type": "code",
      "source": [
        "df_spark = df_spark.withColumnRenamed('mean_people_per_household', 'new_mean_people_per_household')"
      ],
      "metadata": {
        "id": "-gB3vaJ5GRxW"
      },
      "execution_count": null,
      "outputs": []
    },
    {
      "cell_type": "markdown",
      "source": [
        "# Remover variáveis"
      ],
      "metadata": {
        "id": "OQAhb-S8lxdD"
      }
    },
    {
      "cell_type": "code",
      "source": [
        "df_spark = df_spark.drop('new_mean_people_per_household')\n"
      ],
      "metadata": {
        "id": "ObkLAakySxpt"
      },
      "execution_count": null,
      "outputs": []
    },
    {
      "cell_type": "code",
      "source": [
        "df_spark.show(5)"
      ],
      "metadata": {
        "colab": {
          "base_uri": "https://localhost:8080/"
        },
        "id": "73p8h2FxSxlq",
        "outputId": "3042c9c6-73e1-40a2-d9d7-ae0c408c2960"
      },
      "execution_count": null,
      "outputs": [
        {
          "output_type": "stream",
          "name": "stdout",
          "text": [
            "+---------+--------+------------------+-----------+--------------+----------+----------+-------------+------------------+\n",
            "|longitude|latitude|housing_median_age|total_rooms|total_bedrooms|population|households|median_income|median_house_value|\n",
            "+---------+--------+------------------+-----------+--------------+----------+----------+-------------+------------------+\n",
            "|  -114.31|   34.19|              15.0|     5612.0|        1283.0|    1015.0|     472.0|       1.4936|           66900.0|\n",
            "|  -114.47|    34.4|              19.0|     7650.0|        1901.0|    1129.0|     463.0|         1.82|           80100.0|\n",
            "|  -114.56|   33.69|              17.0|      720.0|         174.0|     333.0|     117.0|       1.6509|           85700.0|\n",
            "|  -114.57|   33.64|              14.0|     1501.0|         337.0|     515.0|     226.0|       3.1917|           73400.0|\n",
            "|  -114.57|   33.57|              20.0|     1454.0|         326.0|     624.0|     262.0|        1.925|           65500.0|\n",
            "+---------+--------+------------------+-----------+--------------+----------+----------+-------------+------------------+\n",
            "only showing top 5 rows\n",
            "\n"
          ]
        }
      ]
    },
    {
      "cell_type": "markdown",
      "source": [
        "# Cálculos simples"
      ],
      "metadata": {
        "id": "aAxRk6KCZku6"
      }
    },
    {
      "cell_type": "code",
      "source": [
        "from pyspark.sql.functions import min, max, mean, stddev\n",
        "df_spark.select(min(col('housing_median_age')))"
      ],
      "metadata": {
        "colab": {
          "base_uri": "https://localhost:8080/",
          "height": 68
        },
        "id": "wBuVOrtYSxeo",
        "outputId": "8fc236d8-c7e6-4593-99b5-96c7d9656ca6"
      },
      "execution_count": 38,
      "outputs": [
        {
          "output_type": "execute_result",
          "data": {
            "text/plain": [
              "+-----------------------+\n",
              "|min(housing_median_age)|\n",
              "+-----------------------+\n",
              "|                    1.0|\n",
              "+-----------------------+"
            ],
            "text/html": [
              "<table border='1'>\n",
              "<tr><th>min(housing_median_age)</th></tr>\n",
              "<tr><td>1.0</td></tr>\n",
              "</table>\n"
            ]
          },
          "metadata": {},
          "execution_count": 38
        }
      ]
    },
    {
      "cell_type": "code",
      "source": [
        "df_spark.select(max(col('housing_median_age')))"
      ],
      "metadata": {
        "colab": {
          "base_uri": "https://localhost:8080/",
          "height": 68
        },
        "id": "QVfEiDGjSxbZ",
        "outputId": "edc7fe24-2997-4ab0-d29e-92f0627082c7"
      },
      "execution_count": 40,
      "outputs": [
        {
          "output_type": "execute_result",
          "data": {
            "text/plain": [
              "+-----------------------+\n",
              "|max(housing_median_age)|\n",
              "+-----------------------+\n",
              "|                   52.0|\n",
              "+-----------------------+"
            ],
            "text/html": [
              "<table border='1'>\n",
              "<tr><th>max(housing_median_age)</th></tr>\n",
              "<tr><td>52.0</td></tr>\n",
              "</table>\n"
            ]
          },
          "metadata": {},
          "execution_count": 40
        }
      ]
    },
    {
      "cell_type": "code",
      "source": [
        "df_spark.select(mean(col('housing_median_age')),stddev(col('housing_median_age')))"
      ],
      "metadata": {
        "colab": {
          "base_uri": "https://localhost:8080/",
          "height": 68
        },
        "id": "QgjaUilhl7Tj",
        "outputId": "26a4c163-06b5-4ced-b90e-e5f0af543b1d"
      },
      "execution_count": 41,
      "outputs": [
        {
          "output_type": "execute_result",
          "data": {
            "text/plain": [
              "+-----------------------+-------------------------------+\n",
              "|avg(housing_median_age)|stddev_samp(housing_median_age)|\n",
              "+-----------------------+-------------------------------+\n",
              "|      28.58935294117647|             12.586936981660406|\n",
              "+-----------------------+-------------------------------+"
            ],
            "text/html": [
              "<table border='1'>\n",
              "<tr><th>avg(housing_median_age)</th><th>stddev_samp(housing_median_age)</th></tr>\n",
              "<tr><td>28.58935294117647</td><td>12.586936981660406</td></tr>\n",
              "</table>\n"
            ]
          },
          "metadata": {},
          "execution_count": 41
        }
      ]
    }
  ]
}