{
  "nbformat": 4,
  "nbformat_minor": 0,
  "metadata": {
    "colab": {
      "provenance": [],
      "authorship_tag": "ABX9TyMqjmPn8G3PjbMefoHKbByN",
      "include_colab_link": true
    },
    "kernelspec": {
      "name": "python3",
      "display_name": "Python 3"
    },
    "language_info": {
      "name": "python"
    }
  },
  "cells": [
    {
      "cell_type": "markdown",
      "metadata": {
        "id": "view-in-github",
        "colab_type": "text"
      },
      "source": [
        "<a href=\"https://colab.research.google.com/github/Deriss/Tutoriais-Big-Data/blob/main/Tutorial_PySpark_Manipula%C3%A7%C3%A3o_de_Dataframes.ipynb\" target=\"_parent\"><img src=\"https://colab.research.google.com/assets/colab-badge.svg\" alt=\"Open In Colab\"/></a>"
      ]
    },
    {
      "cell_type": "markdown",
      "source": [
        "# Tutorial PySpark"
      ],
      "metadata": {
        "id": "NPereKZp-kaN"
      }
    },
    {
      "cell_type": "markdown",
      "source": [
        "O Apache Spark é um mecanismo para a análise e processamento de Big Data. O Spark facilita o processamento distribuido e em paralelo, além de ter uma biblioteca própria para aplicar técnicas de Machine Learning em grandes volumes de dados.\n",
        "Neste tutorial serão apresentadas as funções básicas do PySpark para a manipulação de dados utilizando DataFrames."
      ],
      "metadata": {
        "id": "MbLHs6aWGI-k"
      }
    },
    {
      "cell_type": "markdown",
      "source": [
        "## Dependencias"
      ],
      "metadata": {
        "id": "LM3tg6HlIUcD"
      }
    },
    {
      "cell_type": "markdown",
      "source": [
        "Para poder utilizar o PySpark no Google Colab, primeiro precisamos instalar algumas dependencias"
      ],
      "metadata": {
        "id": "nbrlDyLO-tLq"
      }
    },
    {
      "cell_type": "code",
      "execution_count": null,
      "metadata": {
        "id": "Ugg5xagdfhhs"
      },
      "outputs": [],
      "source": [
        "!apt-get install openjdk-8-jdk-headless -qq > /dev/null # java 8\n",
        "!wget -q http://archive.apache.org/dist/spark/spark-3.3.3/spark-3.3.3-bin-hadoop3.tgz #baixar o spark com Hadoop\n"
      ]
    },
    {
      "cell_type": "code",
      "source": [
        "!tar xf spark-3.3.3-bin-hadoop3.tgz # extrair os archivos do Spark\n",
        "!pip install -q findspark # instalar biblioteca para achar o Spark no sistema"
      ],
      "metadata": {
        "id": "c2TFlGnl4CIi"
      },
      "execution_count": null,
      "outputs": []
    },
    {
      "cell_type": "code",
      "source": [
        "# Criando as variáveis de ambiente\n",
        "import os\n",
        "os.environ[\"JAVA_HOME\"] = \"/usr/lib/jvm/java-8-openjdk-amd64\"\n",
        "os.environ[\"SPARK_HOME\"] = \"/content/spark-3.3.3-bin-hadoop3\""
      ],
      "metadata": {
        "id": "GoVJLQE3gFk7"
      },
      "execution_count": null,
      "outputs": []
    },
    {
      "cell_type": "markdown",
      "source": [
        "# Inicializando o PySpark"
      ],
      "metadata": {
        "id": "Xbpt5G5sIsnG"
      }
    },
    {
      "cell_type": "markdown",
      "source": [
        "Para testar o PySpark criaremos uma sesão local"
      ],
      "metadata": {
        "id": "VoGF54XnIwbY"
      }
    },
    {
      "cell_type": "code",
      "source": [
        "# iniciando uma sessão local\n",
        "import findspark\n",
        "findspark.init()\n",
        "from pyspark.sql import SparkSession\n",
        "spark = SparkSession.builder.master(\"local[*]\").getOrCreate()  # O  * em local[*] indica que vamos utilizar todas as unidades de processamento disponíveis\n",
        "spark.conf.set(\"spark.sql.repl.eagerEval.enabled\", True) # Property used to format output tables better\n",
        "spark"
      ],
      "metadata": {
        "colab": {
          "base_uri": "https://localhost:8080/",
          "height": 219
        },
        "id": "2MdO1_dJgTUy",
        "outputId": "58c4c429-e758-42ed-b812-e652b82a8da2"
      },
      "execution_count": null,
      "outputs": [
        {
          "output_type": "execute_result",
          "data": {
            "text/plain": [
              "<pyspark.sql.session.SparkSession at 0x795283885210>"
            ],
            "text/html": [
              "\n",
              "            <div>\n",
              "                <p><b>SparkSession - in-memory</b></p>\n",
              "                \n",
              "        <div>\n",
              "            <p><b>SparkContext</b></p>\n",
              "\n",
              "            <p><a href=\"http://fb6966d4cf5b:4040\">Spark UI</a></p>\n",
              "\n",
              "            <dl>\n",
              "              <dt>Version</dt>\n",
              "                <dd><code>v3.3.3</code></dd>\n",
              "              <dt>Master</dt>\n",
              "                <dd><code>local[*]</code></dd>\n",
              "              <dt>AppName</dt>\n",
              "                <dd><code>pyspark-shell</code></dd>\n",
              "            </dl>\n",
              "        </div>\n",
              "        \n",
              "            </div>\n",
              "        "
            ]
          },
          "metadata": {},
          "execution_count": 10
        }
      ]
    },
    {
      "cell_type": "markdown",
      "source": [
        "# Carregar dados"
      ],
      "metadata": {
        "id": "OIC8R00sKBuv"
      }
    },
    {
      "cell_type": "markdown",
      "source": [
        "Podemos carregar dados de diferentes fontes. Nesse tutorial vamos trabalhar com dados de exemplo do Spark disponibilizados em um arquivo csv."
      ],
      "metadata": {
        "id": "-lOIcSxxKEQA"
      }
    },
    {
      "cell_type": "code",
      "source": [
        "\n",
        "# carregar dados exemplo\n",
        "df_spark = spark.read.csv(\"./sample_data/california_housing_train.csv\", inferSchema=True, header=True)\n",
        "\n",
        "# ver o Schema indicando os tipos de dados de cada coluna\n",
        "df_spark.printSchema()"
      ],
      "metadata": {
        "colab": {
          "base_uri": "https://localhost:8080/"
        },
        "id": "z2T5oErpg1en",
        "outputId": "f4f5bf98-58cb-4db9-8a11-11d6f8f99a24"
      },
      "execution_count": null,
      "outputs": [
        {
          "output_type": "stream",
          "name": "stdout",
          "text": [
            "root\n",
            " |-- longitude: double (nullable = true)\n",
            " |-- latitude: double (nullable = true)\n",
            " |-- housing_median_age: double (nullable = true)\n",
            " |-- total_rooms: double (nullable = true)\n",
            " |-- total_bedrooms: double (nullable = true)\n",
            " |-- population: double (nullable = true)\n",
            " |-- households: double (nullable = true)\n",
            " |-- median_income: double (nullable = true)\n",
            " |-- median_house_value: double (nullable = true)\n",
            "\n"
          ]
        }
      ]
    },
    {
      "cell_type": "markdown",
      "source": [
        "# Exploração do dataset"
      ],
      "metadata": {
        "id": "PNKmSMwa_vM0"
      }
    },
    {
      "cell_type": "markdown",
      "source": [
        "Como o PySpark é focado em análise de grandes volumes de dados, o ideal é visualizar só uma parte do Dataframe para evitar problemas de memória. Existem diferentes métodos que podemos utilizar para obter algumas linhas do Dataframe."
      ],
      "metadata": {
        "id": "JkspuDLxLg3q"
      }
    },
    {
      "cell_type": "markdown",
      "source": [
        "O método take(n) retorna as primeiras n linhas do Dataframe"
      ],
      "metadata": {
        "id": "GGiQEe7rLrwD"
      }
    },
    {
      "cell_type": "code",
      "source": [
        "df_spark.take(5)"
      ],
      "metadata": {
        "colab": {
          "base_uri": "https://localhost:8080/"
        },
        "id": "5DCRyjFChnO3",
        "outputId": "33e3772e-2be3-4b2c-aa56-af7e6eca5be6"
      },
      "execution_count": null,
      "outputs": [
        {
          "output_type": "execute_result",
          "data": {
            "text/plain": [
              "[Row(longitude=-114.31, latitude=34.19, housing_median_age=15.0, total_rooms=5612.0, total_bedrooms=1283.0, population=1015.0, households=472.0, median_income=1.4936, median_house_value=66900.0),\n",
              " Row(longitude=-114.47, latitude=34.4, housing_median_age=19.0, total_rooms=7650.0, total_bedrooms=1901.0, population=1129.0, households=463.0, median_income=1.82, median_house_value=80100.0),\n",
              " Row(longitude=-114.56, latitude=33.69, housing_median_age=17.0, total_rooms=720.0, total_bedrooms=174.0, population=333.0, households=117.0, median_income=1.6509, median_house_value=85700.0),\n",
              " Row(longitude=-114.57, latitude=33.64, housing_median_age=14.0, total_rooms=1501.0, total_bedrooms=337.0, population=515.0, households=226.0, median_income=3.1917, median_house_value=73400.0),\n",
              " Row(longitude=-114.57, latitude=33.57, housing_median_age=20.0, total_rooms=1454.0, total_bedrooms=326.0, population=624.0, households=262.0, median_income=1.925, median_house_value=65500.0)]"
            ]
          },
          "metadata": {},
          "execution_count": 12
        }
      ]
    },
    {
      "cell_type": "markdown",
      "source": [
        "O método show() pode ser utilizado para visualizar as primeiras n linhas em forma de tabela."
      ],
      "metadata": {
        "id": "_16Ihl0YMVh4"
      }
    },
    {
      "cell_type": "code",
      "source": [
        "df_spark.show(5)"
      ],
      "metadata": {
        "id": "QRbQA7d-IUVp",
        "colab": {
          "base_uri": "https://localhost:8080/"
        },
        "outputId": "dfadb84d-b0e0-430b-c2ed-4f340a010326"
      },
      "execution_count": null,
      "outputs": [
        {
          "output_type": "stream",
          "name": "stdout",
          "text": [
            "+---------+--------+------------------+-----------+--------------+----------+----------+-------------+------------------+\n",
            "|longitude|latitude|housing_median_age|total_rooms|total_bedrooms|population|households|median_income|median_house_value|\n",
            "+---------+--------+------------------+-----------+--------------+----------+----------+-------------+------------------+\n",
            "|  -114.31|   34.19|              15.0|     5612.0|        1283.0|    1015.0|     472.0|       1.4936|           66900.0|\n",
            "|  -114.47|    34.4|              19.0|     7650.0|        1901.0|    1129.0|     463.0|         1.82|           80100.0|\n",
            "|  -114.56|   33.69|              17.0|      720.0|         174.0|     333.0|     117.0|       1.6509|           85700.0|\n",
            "|  -114.57|   33.64|              14.0|     1501.0|         337.0|     515.0|     226.0|       3.1917|           73400.0|\n",
            "|  -114.57|   33.57|              20.0|     1454.0|         326.0|     624.0|     262.0|        1.925|           65500.0|\n",
            "+---------+--------+------------------+-----------+--------------+----------+----------+-------------+------------------+\n",
            "only showing top 5 rows\n",
            "\n"
          ]
        }
      ]
    },
    {
      "cell_type": "markdown",
      "source": [
        "O método collect() é utilizado para retornar todos os elementos de um DataFrame. Por esse motivo, só deve ser utilizado para DataFrames pequenos, geralmente depois de ter processado os dados iniciais para evitar problemas de falta de memória. Também podemos utilizar ele para obter só algumas linhas."
      ],
      "metadata": {
        "id": "qbYyqSi1IVux"
      }
    },
    {
      "cell_type": "code",
      "source": [
        "# Obter a primeira linha do dataframe utilizando o collect()\n",
        "df_spark.collect()[0]\n"
      ],
      "metadata": {
        "colab": {
          "base_uri": "https://localhost:8080/"
        },
        "id": "QKsspbLzIDma",
        "outputId": "05f71fd6-9603-4902-bf47-219d82fff6cb"
      },
      "execution_count": null,
      "outputs": [
        {
          "output_type": "execute_result",
          "data": {
            "text/plain": [
              "Row(longitude=-114.31, latitude=34.19, housing_median_age=15.0, total_rooms=5612.0, total_bedrooms=1283.0, population=1015.0, households=472.0, median_income=1.4936, median_house_value=66900.0)"
            ]
          },
          "metadata": {},
          "execution_count": 15
        }
      ]
    },
    {
      "cell_type": "code",
      "source": [
        "# Obter as três primeiras linhas do dataframe utilizando o collect()\n",
        "df_spark.collect()[0:3]"
      ],
      "metadata": {
        "colab": {
          "base_uri": "https://localhost:8080/"
        },
        "id": "7nXlpHsVJO-g",
        "outputId": "30591707-627e-4bea-a649-c6a74ecb4b1a"
      },
      "execution_count": null,
      "outputs": [
        {
          "output_type": "execute_result",
          "data": {
            "text/plain": [
              "[Row(longitude=-114.31, latitude=34.19, housing_median_age=15.0, total_rooms=5612.0, total_bedrooms=1283.0, population=1015.0, households=472.0, median_income=1.4936, median_house_value=66900.0),\n",
              " Row(longitude=-114.47, latitude=34.4, housing_median_age=19.0, total_rooms=7650.0, total_bedrooms=1901.0, population=1129.0, households=463.0, median_income=1.82, median_house_value=80100.0),\n",
              " Row(longitude=-114.56, latitude=33.69, housing_median_age=17.0, total_rooms=720.0, total_bedrooms=174.0, population=333.0, households=117.0, median_income=1.6509, median_house_value=85700.0)]"
            ]
          },
          "metadata": {},
          "execution_count": 16
        }
      ]
    },
    {
      "cell_type": "code",
      "source": [
        "# Obter as três primeiras colunas da primeira linha do dataframe utilizando o collect()\n",
        "df_spark.collect()[1][0:3]"
      ],
      "metadata": {
        "colab": {
          "base_uri": "https://localhost:8080/"
        },
        "id": "HHBtgQHVJVam",
        "outputId": "b77e96ca-121a-481b-f21b-44babd4b5a84"
      },
      "execution_count": null,
      "outputs": [
        {
          "output_type": "execute_result",
          "data": {
            "text/plain": [
              "(-114.47, 34.4, 19.0)"
            ]
          },
          "metadata": {},
          "execution_count": 17
        }
      ]
    },
    {
      "cell_type": "markdown",
      "source": [
        "# Selecionar variáveis"
      ],
      "metadata": {
        "id": "PyMma7QuNSiM"
      }
    },
    {
      "cell_type": "markdown",
      "source": [
        "Para selecionar só algumas variáveis do Dataframe podemos utilizar o método select() com diferentes formas para determinar as variáveis:"
      ],
      "metadata": {
        "id": "-0JUm1CMNusQ"
      }
    },
    {
      "cell_type": "code",
      "source": [
        "df_spark.select('housing_median_age').show(5)"
      ],
      "metadata": {
        "colab": {
          "base_uri": "https://localhost:8080/"
        },
        "id": "byQWfn7qH-UT",
        "outputId": "92565cd2-0d5d-461b-aef3-0507fb308650"
      },
      "execution_count": null,
      "outputs": [
        {
          "output_type": "stream",
          "name": "stdout",
          "text": [
            "+------------------+\n",
            "|housing_median_age|\n",
            "+------------------+\n",
            "|              15.0|\n",
            "|              19.0|\n",
            "|              17.0|\n",
            "|              14.0|\n",
            "|              20.0|\n",
            "+------------------+\n",
            "only showing top 5 rows\n",
            "\n"
          ]
        }
      ]
    },
    {
      "cell_type": "code",
      "source": [
        "from pyspark.sql.functions import col\n",
        "df_spark.select(col('housing_median_age')).show(5)"
      ],
      "metadata": {
        "colab": {
          "base_uri": "https://localhost:8080/"
        },
        "id": "QATEY_jNNcgw",
        "outputId": "34af74af-56e6-4b9c-cc21-589b39f560e3"
      },
      "execution_count": null,
      "outputs": [
        {
          "output_type": "stream",
          "name": "stdout",
          "text": [
            "+------------------+\n",
            "|housing_median_age|\n",
            "+------------------+\n",
            "|              15.0|\n",
            "|              19.0|\n",
            "|              17.0|\n",
            "|              14.0|\n",
            "|              20.0|\n",
            "+------------------+\n",
            "only showing top 5 rows\n",
            "\n"
          ]
        }
      ]
    },
    {
      "cell_type": "code",
      "source": [
        "from pyspark.sql.functions import col\n",
        "df_spark.select(df_spark.housing_median_age).show(5)"
      ],
      "metadata": {
        "colab": {
          "base_uri": "https://localhost:8080/"
        },
        "id": "zxiEqm63TxWa",
        "outputId": "331d7681-9dec-40cc-e8ba-bc9643148062"
      },
      "execution_count": null,
      "outputs": [
        {
          "output_type": "stream",
          "name": "stdout",
          "text": [
            "+------------------+\n",
            "|housing_median_age|\n",
            "+------------------+\n",
            "|              15.0|\n",
            "|              19.0|\n",
            "|              17.0|\n",
            "|              14.0|\n",
            "|              20.0|\n",
            "+------------------+\n",
            "only showing top 5 rows\n",
            "\n"
          ]
        }
      ]
    },
    {
      "cell_type": "markdown",
      "source": [
        "Podemos selecionar mais de uma variável utilizando virgulas para separar o nome de cada variável"
      ],
      "metadata": {
        "id": "dJuSojRZT-04"
      }
    },
    {
      "cell_type": "code",
      "source": [
        "df_spark.select('housing_median_age','population').show(5)"
      ],
      "metadata": {
        "colab": {
          "base_uri": "https://localhost:8080/"
        },
        "id": "NO2qNJEhLGpf",
        "outputId": "e1d81944-d495-42fd-d4e2-2abf9b711822"
      },
      "execution_count": null,
      "outputs": [
        {
          "output_type": "stream",
          "name": "stdout",
          "text": [
            "+------------------+----------+\n",
            "|housing_median_age|population|\n",
            "+------------------+----------+\n",
            "|              15.0|    1015.0|\n",
            "|              19.0|    1129.0|\n",
            "|              17.0|     333.0|\n",
            "|              14.0|     515.0|\n",
            "|              20.0|     624.0|\n",
            "+------------------+----------+\n",
            "only showing top 5 rows\n",
            "\n"
          ]
        }
      ]
    },
    {
      "cell_type": "markdown",
      "source": [
        "# Filtrar o Dataframe"
      ],
      "metadata": {
        "id": "0d19b61cUXTu"
      }
    },
    {
      "cell_type": "markdown",
      "source": [
        "Podemos filtrar as linhas de um dataset utilizando o método filter( CONDIÇÃO ) ou o método where( CONDIÇÃO). Os dois métodos funcionam da mesma forma."
      ],
      "metadata": {
        "id": "wFJWGsl0UZir"
      }
    },
    {
      "cell_type": "code",
      "source": [
        "df_spark.filter(df_spark['housing_median_age'] == 14.0)"
      ],
      "metadata": {
        "colab": {
          "base_uri": "https://localhost:8080/",
          "height": 523
        },
        "id": "sbikXLusPBEM",
        "outputId": "cf87f556-1c08-4d7e-e111-99324809ad12"
      },
      "execution_count": null,
      "outputs": [
        {
          "output_type": "execute_result",
          "data": {
            "text/plain": [
              "+---------+--------+------------------+-----------+--------------+----------+----------+-------------+------------------+\n",
              "|longitude|latitude|housing_median_age|total_rooms|total_bedrooms|population|households|median_income|median_house_value|\n",
              "+---------+--------+------------------+-----------+--------------+----------+----------+-------------+------------------+\n",
              "|  -114.57|   33.64|              14.0|     1501.0|         337.0|     515.0|     226.0|       3.1917|           73400.0|\n",
              "|  -115.37|   32.82|              14.0|     1276.0|         270.0|     867.0|     261.0|       1.9375|           80900.0|\n",
              "|  -115.53|   32.73|              14.0|     1527.0|         325.0|    1453.0|     332.0|        1.735|           61200.0|\n",
              "|  -115.58|   32.79|              14.0|     1687.0|         507.0|     762.0|     451.0|       1.6635|           64400.0|\n",
              "|  -116.22|    36.0|              14.0|     1372.0|         386.0|     436.0|     213.0|       1.1471|           32900.0|\n",
              "|  -116.24|   33.73|              14.0|     2774.0|         566.0|    1530.0|     505.0|       3.0682|          104100.0|\n",
              "|  -116.38|    34.2|              14.0|     4985.0|        1238.0|    2517.0|     954.0|       2.0674|           65000.0|\n",
              "|  -116.42|   33.76|              14.0|    16921.0|        2837.0|    2524.0|    1262.0|       7.6281|          341700.0|\n",
              "|  -116.48|   33.79|              14.0|     9425.0|        2020.0|    1711.0|    1000.0|       2.6298|          145200.0|\n",
              "|  -116.62|   34.23|              14.0|     6438.0|        1719.0|    1586.0|     691.0|       1.6136|           67400.0|\n",
              "|  -116.72|   34.89|              14.0|     4527.0|         875.0|    1640.0|     590.0|       2.8594|           81700.0|\n",
              "|  -116.76|   34.29|              14.0|     3959.0|         849.0|    1064.0|     376.0|       2.8214|          111400.0|\n",
              "|  -116.76|   32.74|              14.0|     4085.0|         751.0|    2129.0|     688.0|       4.7367|          214500.0|\n",
              "|  -116.89|   33.48|              14.0|     1016.0|         219.0|     443.0|     169.0|       2.8071|          137500.0|\n",
              "|  -116.89|   32.99|              14.0|     2816.0|         501.0|    1448.0|     452.0|       5.0278|          210900.0|\n",
              "|   -116.9|   33.74|              14.0|     2281.0|         426.0|     894.0|     430.0|       2.3712|          127900.0|\n",
              "|  -116.91|   32.87|              14.0|     3048.0|         597.0|    1690.0|     576.0|       4.3818|          147100.0|\n",
              "|  -116.91|   32.82|              14.0|     1978.0|         424.0|    1085.0|     387.0|       3.8073|          170100.0|\n",
              "|  -116.93|   33.75|              14.0|     6027.0|        1148.0|    3136.0|    1036.0|        2.964|          121500.0|\n",
              "|  -116.94|   33.77|              14.0|     7240.0|        1410.0|    2708.0|    1240.0|       2.4145|          137600.0|\n",
              "+---------+--------+------------------+-----------+--------------+----------+----------+-------------+------------------+\n",
              "only showing top 20 rows"
            ],
            "text/html": [
              "<table border='1'>\n",
              "<tr><th>longitude</th><th>latitude</th><th>housing_median_age</th><th>total_rooms</th><th>total_bedrooms</th><th>population</th><th>households</th><th>median_income</th><th>median_house_value</th></tr>\n",
              "<tr><td>-114.57</td><td>33.64</td><td>14.0</td><td>1501.0</td><td>337.0</td><td>515.0</td><td>226.0</td><td>3.1917</td><td>73400.0</td></tr>\n",
              "<tr><td>-115.37</td><td>32.82</td><td>14.0</td><td>1276.0</td><td>270.0</td><td>867.0</td><td>261.0</td><td>1.9375</td><td>80900.0</td></tr>\n",
              "<tr><td>-115.53</td><td>32.73</td><td>14.0</td><td>1527.0</td><td>325.0</td><td>1453.0</td><td>332.0</td><td>1.735</td><td>61200.0</td></tr>\n",
              "<tr><td>-115.58</td><td>32.79</td><td>14.0</td><td>1687.0</td><td>507.0</td><td>762.0</td><td>451.0</td><td>1.6635</td><td>64400.0</td></tr>\n",
              "<tr><td>-116.22</td><td>36.0</td><td>14.0</td><td>1372.0</td><td>386.0</td><td>436.0</td><td>213.0</td><td>1.1471</td><td>32900.0</td></tr>\n",
              "<tr><td>-116.24</td><td>33.73</td><td>14.0</td><td>2774.0</td><td>566.0</td><td>1530.0</td><td>505.0</td><td>3.0682</td><td>104100.0</td></tr>\n",
              "<tr><td>-116.38</td><td>34.2</td><td>14.0</td><td>4985.0</td><td>1238.0</td><td>2517.0</td><td>954.0</td><td>2.0674</td><td>65000.0</td></tr>\n",
              "<tr><td>-116.42</td><td>33.76</td><td>14.0</td><td>16921.0</td><td>2837.0</td><td>2524.0</td><td>1262.0</td><td>7.6281</td><td>341700.0</td></tr>\n",
              "<tr><td>-116.48</td><td>33.79</td><td>14.0</td><td>9425.0</td><td>2020.0</td><td>1711.0</td><td>1000.0</td><td>2.6298</td><td>145200.0</td></tr>\n",
              "<tr><td>-116.62</td><td>34.23</td><td>14.0</td><td>6438.0</td><td>1719.0</td><td>1586.0</td><td>691.0</td><td>1.6136</td><td>67400.0</td></tr>\n",
              "<tr><td>-116.72</td><td>34.89</td><td>14.0</td><td>4527.0</td><td>875.0</td><td>1640.0</td><td>590.0</td><td>2.8594</td><td>81700.0</td></tr>\n",
              "<tr><td>-116.76</td><td>34.29</td><td>14.0</td><td>3959.0</td><td>849.0</td><td>1064.0</td><td>376.0</td><td>2.8214</td><td>111400.0</td></tr>\n",
              "<tr><td>-116.76</td><td>32.74</td><td>14.0</td><td>4085.0</td><td>751.0</td><td>2129.0</td><td>688.0</td><td>4.7367</td><td>214500.0</td></tr>\n",
              "<tr><td>-116.89</td><td>33.48</td><td>14.0</td><td>1016.0</td><td>219.0</td><td>443.0</td><td>169.0</td><td>2.8071</td><td>137500.0</td></tr>\n",
              "<tr><td>-116.89</td><td>32.99</td><td>14.0</td><td>2816.0</td><td>501.0</td><td>1448.0</td><td>452.0</td><td>5.0278</td><td>210900.0</td></tr>\n",
              "<tr><td>-116.9</td><td>33.74</td><td>14.0</td><td>2281.0</td><td>426.0</td><td>894.0</td><td>430.0</td><td>2.3712</td><td>127900.0</td></tr>\n",
              "<tr><td>-116.91</td><td>32.87</td><td>14.0</td><td>3048.0</td><td>597.0</td><td>1690.0</td><td>576.0</td><td>4.3818</td><td>147100.0</td></tr>\n",
              "<tr><td>-116.91</td><td>32.82</td><td>14.0</td><td>1978.0</td><td>424.0</td><td>1085.0</td><td>387.0</td><td>3.8073</td><td>170100.0</td></tr>\n",
              "<tr><td>-116.93</td><td>33.75</td><td>14.0</td><td>6027.0</td><td>1148.0</td><td>3136.0</td><td>1036.0</td><td>2.964</td><td>121500.0</td></tr>\n",
              "<tr><td>-116.94</td><td>33.77</td><td>14.0</td><td>7240.0</td><td>1410.0</td><td>2708.0</td><td>1240.0</td><td>2.4145</td><td>137600.0</td></tr>\n",
              "</table>\n",
              "only showing top 20 rows\n"
            ]
          },
          "metadata": {},
          "execution_count": 33
        }
      ]
    },
    {
      "cell_type": "code",
      "source": [
        "df_spark.filter(df_spark['housing_median_age'] < 15.0)"
      ],
      "metadata": {
        "colab": {
          "base_uri": "https://localhost:8080/",
          "height": 523
        },
        "id": "9dRVuAuKLVP_",
        "outputId": "1a6dd341-4af1-4293-8447-1fe5d1cbdee4"
      },
      "execution_count": null,
      "outputs": [
        {
          "output_type": "execute_result",
          "data": {
            "text/plain": [
              "+---------+--------+------------------+-----------+--------------+----------+----------+-------------+------------------+\n",
              "|longitude|latitude|housing_median_age|total_rooms|total_bedrooms|population|households|median_income|median_house_value|\n",
              "+---------+--------+------------------+-----------+--------------+----------+----------+-------------+------------------+\n",
              "|  -114.57|   33.64|              14.0|     1501.0|         337.0|     515.0|     226.0|       3.1917|           73400.0|\n",
              "|  -115.37|   32.82|              14.0|     1276.0|         270.0|     867.0|     261.0|       1.9375|           80900.0|\n",
              "|   -115.5|   32.75|              13.0|      330.0|          72.0|     822.0|      64.0|       3.4107|          142500.0|\n",
              "|  -115.51|   32.68|              11.0|     2872.0|         610.0|    2644.0|     581.0|        2.625|           72700.0|\n",
              "|  -115.52|   32.97|              10.0|     1879.0|         387.0|    1376.0|     337.0|       1.9911|           67500.0|\n",
              "|  -115.52|   32.67|               6.0|     2804.0|         581.0|    2807.0|     594.0|       2.0625|           67700.0|\n",
              "|  -115.53|   34.91|              12.0|      807.0|         199.0|     246.0|     102.0|       2.5391|           40000.0|\n",
              "|  -115.53|   32.73|              14.0|     1527.0|         325.0|    1453.0|     332.0|        1.735|           61200.0|\n",
              "|  -115.55|   32.78|               5.0|     2652.0|         606.0|    1767.0|     536.0|       2.8025|           84300.0|\n",
              "|  -115.58|   32.81|               5.0|      805.0|         143.0|     458.0|     143.0|        4.475|           96300.0|\n",
              "|  -115.58|   32.81|              10.0|     1088.0|         203.0|     533.0|     201.0|       3.6597|           87500.0|\n",
              "|  -115.58|   32.79|              14.0|     1687.0|         507.0|     762.0|     451.0|       1.6635|           64400.0|\n",
              "|  -115.58|   32.78|               5.0|     2494.0|         414.0|    1416.0|     421.0|       5.7843|          110100.0|\n",
              "|  -115.59|   32.79|               8.0|     2183.0|         307.0|    1000.0|     287.0|       6.3814|          159900.0|\n",
              "|   -115.6|   32.87|               3.0|     1629.0|         317.0|    1005.0|     312.0|       4.1293|           83200.0|\n",
              "|   -115.8|   33.26|               2.0|       96.0|          18.0|      30.0|      16.0|       5.3374|           47500.0|\n",
              "|  -115.94|   33.38|               5.0|      186.0|          43.0|      41.0|      21.0|          2.7|           58800.0|\n",
              "|  -115.95|   33.28|              12.0|       99.0|          25.0|      37.0|      17.0|       1.8958|           53800.0|\n",
              "|  -115.98|   33.32|               8.0|      240.0|          46.0|      63.0|      24.0|       1.4688|           53800.0|\n",
              "|  -116.02|   34.18|               8.0|      569.0|          97.0|     312.0|      96.0|       4.3021|           94500.0|\n",
              "+---------+--------+------------------+-----------+--------------+----------+----------+-------------+------------------+\n",
              "only showing top 20 rows"
            ],
            "text/html": [
              "<table border='1'>\n",
              "<tr><th>longitude</th><th>latitude</th><th>housing_median_age</th><th>total_rooms</th><th>total_bedrooms</th><th>population</th><th>households</th><th>median_income</th><th>median_house_value</th></tr>\n",
              "<tr><td>-114.57</td><td>33.64</td><td>14.0</td><td>1501.0</td><td>337.0</td><td>515.0</td><td>226.0</td><td>3.1917</td><td>73400.0</td></tr>\n",
              "<tr><td>-115.37</td><td>32.82</td><td>14.0</td><td>1276.0</td><td>270.0</td><td>867.0</td><td>261.0</td><td>1.9375</td><td>80900.0</td></tr>\n",
              "<tr><td>-115.5</td><td>32.75</td><td>13.0</td><td>330.0</td><td>72.0</td><td>822.0</td><td>64.0</td><td>3.4107</td><td>142500.0</td></tr>\n",
              "<tr><td>-115.51</td><td>32.68</td><td>11.0</td><td>2872.0</td><td>610.0</td><td>2644.0</td><td>581.0</td><td>2.625</td><td>72700.0</td></tr>\n",
              "<tr><td>-115.52</td><td>32.97</td><td>10.0</td><td>1879.0</td><td>387.0</td><td>1376.0</td><td>337.0</td><td>1.9911</td><td>67500.0</td></tr>\n",
              "<tr><td>-115.52</td><td>32.67</td><td>6.0</td><td>2804.0</td><td>581.0</td><td>2807.0</td><td>594.0</td><td>2.0625</td><td>67700.0</td></tr>\n",
              "<tr><td>-115.53</td><td>34.91</td><td>12.0</td><td>807.0</td><td>199.0</td><td>246.0</td><td>102.0</td><td>2.5391</td><td>40000.0</td></tr>\n",
              "<tr><td>-115.53</td><td>32.73</td><td>14.0</td><td>1527.0</td><td>325.0</td><td>1453.0</td><td>332.0</td><td>1.735</td><td>61200.0</td></tr>\n",
              "<tr><td>-115.55</td><td>32.78</td><td>5.0</td><td>2652.0</td><td>606.0</td><td>1767.0</td><td>536.0</td><td>2.8025</td><td>84300.0</td></tr>\n",
              "<tr><td>-115.58</td><td>32.81</td><td>5.0</td><td>805.0</td><td>143.0</td><td>458.0</td><td>143.0</td><td>4.475</td><td>96300.0</td></tr>\n",
              "<tr><td>-115.58</td><td>32.81</td><td>10.0</td><td>1088.0</td><td>203.0</td><td>533.0</td><td>201.0</td><td>3.6597</td><td>87500.0</td></tr>\n",
              "<tr><td>-115.58</td><td>32.79</td><td>14.0</td><td>1687.0</td><td>507.0</td><td>762.0</td><td>451.0</td><td>1.6635</td><td>64400.0</td></tr>\n",
              "<tr><td>-115.58</td><td>32.78</td><td>5.0</td><td>2494.0</td><td>414.0</td><td>1416.0</td><td>421.0</td><td>5.7843</td><td>110100.0</td></tr>\n",
              "<tr><td>-115.59</td><td>32.79</td><td>8.0</td><td>2183.0</td><td>307.0</td><td>1000.0</td><td>287.0</td><td>6.3814</td><td>159900.0</td></tr>\n",
              "<tr><td>-115.6</td><td>32.87</td><td>3.0</td><td>1629.0</td><td>317.0</td><td>1005.0</td><td>312.0</td><td>4.1293</td><td>83200.0</td></tr>\n",
              "<tr><td>-115.8</td><td>33.26</td><td>2.0</td><td>96.0</td><td>18.0</td><td>30.0</td><td>16.0</td><td>5.3374</td><td>47500.0</td></tr>\n",
              "<tr><td>-115.94</td><td>33.38</td><td>5.0</td><td>186.0</td><td>43.0</td><td>41.0</td><td>21.0</td><td>2.7</td><td>58800.0</td></tr>\n",
              "<tr><td>-115.95</td><td>33.28</td><td>12.0</td><td>99.0</td><td>25.0</td><td>37.0</td><td>17.0</td><td>1.8958</td><td>53800.0</td></tr>\n",
              "<tr><td>-115.98</td><td>33.32</td><td>8.0</td><td>240.0</td><td>46.0</td><td>63.0</td><td>24.0</td><td>1.4688</td><td>53800.0</td></tr>\n",
              "<tr><td>-116.02</td><td>34.18</td><td>8.0</td><td>569.0</td><td>97.0</td><td>312.0</td><td>96.0</td><td>4.3021</td><td>94500.0</td></tr>\n",
              "</table>\n",
              "only showing top 20 rows\n"
            ]
          },
          "metadata": {},
          "execution_count": 32
        }
      ]
    },
    {
      "cell_type": "code",
      "source": [
        "# Criar novas variáveis"
      ],
      "metadata": {
        "id": "ug85upWiGTLu"
      },
      "execution_count": null,
      "outputs": []
    },
    {
      "cell_type": "code",
      "source": [
        "from pyspark.sql.functions import col"
      ],
      "metadata": {
        "id": "i4VsIR55QeCw"
      },
      "execution_count": null,
      "outputs": []
    },
    {
      "cell_type": "code",
      "source": [
        "df_spark = df_spark.withColumn('mean_people_per_household', col('population')/col('households'))\n",
        "df_spark.show()"
      ],
      "metadata": {
        "colab": {
          "base_uri": "https://localhost:8080/"
        },
        "id": "uyqT9dpjGS_t",
        "outputId": "b2804390-5c7a-4195-8ce3-e690f20df553"
      },
      "execution_count": null,
      "outputs": [
        {
          "output_type": "stream",
          "name": "stdout",
          "text": [
            "+---------+--------+------------------+-----------+--------------+----------+----------+-------------+------------------+-------------------------+\n",
            "|longitude|latitude|housing_median_age|total_rooms|total_bedrooms|population|households|median_income|median_house_value|mean_people_per_household|\n",
            "+---------+--------+------------------+-----------+--------------+----------+----------+-------------+------------------+-------------------------+\n",
            "|  -114.31|   34.19|              15.0|     5612.0|        1283.0|    1015.0|     472.0|       1.4936|           66900.0|       2.1504237288135593|\n",
            "|  -114.47|    34.4|              19.0|     7650.0|        1901.0|    1129.0|     463.0|         1.82|           80100.0|       2.4384449244060473|\n",
            "|  -114.56|   33.69|              17.0|      720.0|         174.0|     333.0|     117.0|       1.6509|           85700.0|       2.8461538461538463|\n",
            "|  -114.57|   33.64|              14.0|     1501.0|         337.0|     515.0|     226.0|       3.1917|           73400.0|       2.2787610619469025|\n",
            "|  -114.57|   33.57|              20.0|     1454.0|         326.0|     624.0|     262.0|        1.925|           65500.0|        2.381679389312977|\n",
            "|  -114.58|   33.63|              29.0|     1387.0|         236.0|     671.0|     239.0|       3.3438|           74000.0|        2.807531380753138|\n",
            "|  -114.58|   33.61|              25.0|     2907.0|         680.0|    1841.0|     633.0|       2.6768|           82400.0|       2.9083728278041074|\n",
            "|  -114.59|   34.83|              41.0|      812.0|         168.0|     375.0|     158.0|       1.7083|           48500.0|       2.3734177215189876|\n",
            "|  -114.59|   33.61|              34.0|     4789.0|        1175.0|    3134.0|    1056.0|       2.1782|           58400.0|       2.9678030303030303|\n",
            "|   -114.6|   34.83|              46.0|     1497.0|         309.0|     787.0|     271.0|       2.1908|           48100.0|        2.904059040590406|\n",
            "|   -114.6|   33.62|              16.0|     3741.0|         801.0|    2434.0|     824.0|       2.6797|           86500.0|        2.953883495145631|\n",
            "|   -114.6|    33.6|              21.0|     1988.0|         483.0|    1182.0|     437.0|        1.625|           62000.0|       2.7048054919908466|\n",
            "|  -114.61|   34.84|              48.0|     1291.0|         248.0|     580.0|     211.0|       2.1571|           48600.0|        2.748815165876777|\n",
            "|  -114.61|   34.83|              31.0|     2478.0|         464.0|    1346.0|     479.0|        3.212|           70400.0|       2.8100208768267225|\n",
            "|  -114.63|   32.76|              15.0|     1448.0|         378.0|     949.0|     300.0|       0.8585|           45000.0|       3.1633333333333336|\n",
            "|  -114.65|   34.89|              17.0|     2556.0|         587.0|    1005.0|     401.0|       1.6991|           69100.0|        2.506234413965087|\n",
            "|  -114.65|    33.6|              28.0|     1678.0|         322.0|     666.0|     256.0|       2.9653|           94900.0|                2.6015625|\n",
            "|  -114.65|   32.79|              21.0|       44.0|          33.0|      64.0|      27.0|       0.8571|           25000.0|       2.3703703703703702|\n",
            "|  -114.66|   32.74|              17.0|     1388.0|         386.0|     775.0|     320.0|       1.2049|           44000.0|                 2.421875|\n",
            "|  -114.67|   33.92|              17.0|       97.0|          24.0|      29.0|      15.0|       1.2656|           27500.0|       1.9333333333333333|\n",
            "+---------+--------+------------------+-----------+--------------+----------+----------+-------------+------------------+-------------------------+\n",
            "only showing top 20 rows\n",
            "\n"
          ]
        }
      ]
    },
    {
      "cell_type": "code",
      "source": [
        "from pyspark.sql.functions import lit\n",
        "df_spark.withColumn('zeros_column', lit(0))"
      ],
      "metadata": {
        "colab": {
          "base_uri": "https://localhost:8080/",
          "height": 523
        },
        "id": "gxRfU-xiGSyw",
        "outputId": "6b0e7bd8-e51d-454d-edef-5a9b8b460b2d"
      },
      "execution_count": null,
      "outputs": [
        {
          "output_type": "execute_result",
          "data": {
            "text/plain": [
              "+---------+--------+------------------+-----------+--------------+----------+----------+-------------+------------------+-------------------------+------------+\n",
              "|longitude|latitude|housing_median_age|total_rooms|total_bedrooms|population|households|median_income|median_house_value|mean_people_per_household|zeros_column|\n",
              "+---------+--------+------------------+-----------+--------------+----------+----------+-------------+------------------+-------------------------+------------+\n",
              "|  -114.31|   34.19|              15.0|     5612.0|        1283.0|    1015.0|     472.0|       1.4936|           66900.0|       2.1504237288135593|           0|\n",
              "|  -114.47|    34.4|              19.0|     7650.0|        1901.0|    1129.0|     463.0|         1.82|           80100.0|       2.4384449244060473|           0|\n",
              "|  -114.56|   33.69|              17.0|      720.0|         174.0|     333.0|     117.0|       1.6509|           85700.0|       2.8461538461538463|           0|\n",
              "|  -114.57|   33.64|              14.0|     1501.0|         337.0|     515.0|     226.0|       3.1917|           73400.0|       2.2787610619469025|           0|\n",
              "|  -114.57|   33.57|              20.0|     1454.0|         326.0|     624.0|     262.0|        1.925|           65500.0|        2.381679389312977|           0|\n",
              "|  -114.58|   33.63|              29.0|     1387.0|         236.0|     671.0|     239.0|       3.3438|           74000.0|        2.807531380753138|           0|\n",
              "|  -114.58|   33.61|              25.0|     2907.0|         680.0|    1841.0|     633.0|       2.6768|           82400.0|       2.9083728278041074|           0|\n",
              "|  -114.59|   34.83|              41.0|      812.0|         168.0|     375.0|     158.0|       1.7083|           48500.0|       2.3734177215189876|           0|\n",
              "|  -114.59|   33.61|              34.0|     4789.0|        1175.0|    3134.0|    1056.0|       2.1782|           58400.0|       2.9678030303030303|           0|\n",
              "|   -114.6|   34.83|              46.0|     1497.0|         309.0|     787.0|     271.0|       2.1908|           48100.0|        2.904059040590406|           0|\n",
              "|   -114.6|   33.62|              16.0|     3741.0|         801.0|    2434.0|     824.0|       2.6797|           86500.0|        2.953883495145631|           0|\n",
              "|   -114.6|    33.6|              21.0|     1988.0|         483.0|    1182.0|     437.0|        1.625|           62000.0|       2.7048054919908466|           0|\n",
              "|  -114.61|   34.84|              48.0|     1291.0|         248.0|     580.0|     211.0|       2.1571|           48600.0|        2.748815165876777|           0|\n",
              "|  -114.61|   34.83|              31.0|     2478.0|         464.0|    1346.0|     479.0|        3.212|           70400.0|       2.8100208768267225|           0|\n",
              "|  -114.63|   32.76|              15.0|     1448.0|         378.0|     949.0|     300.0|       0.8585|           45000.0|       3.1633333333333336|           0|\n",
              "|  -114.65|   34.89|              17.0|     2556.0|         587.0|    1005.0|     401.0|       1.6991|           69100.0|        2.506234413965087|           0|\n",
              "|  -114.65|    33.6|              28.0|     1678.0|         322.0|     666.0|     256.0|       2.9653|           94900.0|                2.6015625|           0|\n",
              "|  -114.65|   32.79|              21.0|       44.0|          33.0|      64.0|      27.0|       0.8571|           25000.0|       2.3703703703703702|           0|\n",
              "|  -114.66|   32.74|              17.0|     1388.0|         386.0|     775.0|     320.0|       1.2049|           44000.0|                 2.421875|           0|\n",
              "|  -114.67|   33.92|              17.0|       97.0|          24.0|      29.0|      15.0|       1.2656|           27500.0|       1.9333333333333333|           0|\n",
              "+---------+--------+------------------+-----------+--------------+----------+----------+-------------+------------------+-------------------------+------------+\n",
              "only showing top 20 rows"
            ],
            "text/html": [
              "<table border='1'>\n",
              "<tr><th>longitude</th><th>latitude</th><th>housing_median_age</th><th>total_rooms</th><th>total_bedrooms</th><th>population</th><th>households</th><th>median_income</th><th>median_house_value</th><th>mean_people_per_household</th><th>zeros_column</th></tr>\n",
              "<tr><td>-114.31</td><td>34.19</td><td>15.0</td><td>5612.0</td><td>1283.0</td><td>1015.0</td><td>472.0</td><td>1.4936</td><td>66900.0</td><td>2.1504237288135593</td><td>0</td></tr>\n",
              "<tr><td>-114.47</td><td>34.4</td><td>19.0</td><td>7650.0</td><td>1901.0</td><td>1129.0</td><td>463.0</td><td>1.82</td><td>80100.0</td><td>2.4384449244060473</td><td>0</td></tr>\n",
              "<tr><td>-114.56</td><td>33.69</td><td>17.0</td><td>720.0</td><td>174.0</td><td>333.0</td><td>117.0</td><td>1.6509</td><td>85700.0</td><td>2.8461538461538463</td><td>0</td></tr>\n",
              "<tr><td>-114.57</td><td>33.64</td><td>14.0</td><td>1501.0</td><td>337.0</td><td>515.0</td><td>226.0</td><td>3.1917</td><td>73400.0</td><td>2.2787610619469025</td><td>0</td></tr>\n",
              "<tr><td>-114.57</td><td>33.57</td><td>20.0</td><td>1454.0</td><td>326.0</td><td>624.0</td><td>262.0</td><td>1.925</td><td>65500.0</td><td>2.381679389312977</td><td>0</td></tr>\n",
              "<tr><td>-114.58</td><td>33.63</td><td>29.0</td><td>1387.0</td><td>236.0</td><td>671.0</td><td>239.0</td><td>3.3438</td><td>74000.0</td><td>2.807531380753138</td><td>0</td></tr>\n",
              "<tr><td>-114.58</td><td>33.61</td><td>25.0</td><td>2907.0</td><td>680.0</td><td>1841.0</td><td>633.0</td><td>2.6768</td><td>82400.0</td><td>2.9083728278041074</td><td>0</td></tr>\n",
              "<tr><td>-114.59</td><td>34.83</td><td>41.0</td><td>812.0</td><td>168.0</td><td>375.0</td><td>158.0</td><td>1.7083</td><td>48500.0</td><td>2.3734177215189876</td><td>0</td></tr>\n",
              "<tr><td>-114.59</td><td>33.61</td><td>34.0</td><td>4789.0</td><td>1175.0</td><td>3134.0</td><td>1056.0</td><td>2.1782</td><td>58400.0</td><td>2.9678030303030303</td><td>0</td></tr>\n",
              "<tr><td>-114.6</td><td>34.83</td><td>46.0</td><td>1497.0</td><td>309.0</td><td>787.0</td><td>271.0</td><td>2.1908</td><td>48100.0</td><td>2.904059040590406</td><td>0</td></tr>\n",
              "<tr><td>-114.6</td><td>33.62</td><td>16.0</td><td>3741.0</td><td>801.0</td><td>2434.0</td><td>824.0</td><td>2.6797</td><td>86500.0</td><td>2.953883495145631</td><td>0</td></tr>\n",
              "<tr><td>-114.6</td><td>33.6</td><td>21.0</td><td>1988.0</td><td>483.0</td><td>1182.0</td><td>437.0</td><td>1.625</td><td>62000.0</td><td>2.7048054919908466</td><td>0</td></tr>\n",
              "<tr><td>-114.61</td><td>34.84</td><td>48.0</td><td>1291.0</td><td>248.0</td><td>580.0</td><td>211.0</td><td>2.1571</td><td>48600.0</td><td>2.748815165876777</td><td>0</td></tr>\n",
              "<tr><td>-114.61</td><td>34.83</td><td>31.0</td><td>2478.0</td><td>464.0</td><td>1346.0</td><td>479.0</td><td>3.212</td><td>70400.0</td><td>2.8100208768267225</td><td>0</td></tr>\n",
              "<tr><td>-114.63</td><td>32.76</td><td>15.0</td><td>1448.0</td><td>378.0</td><td>949.0</td><td>300.0</td><td>0.8585</td><td>45000.0</td><td>3.1633333333333336</td><td>0</td></tr>\n",
              "<tr><td>-114.65</td><td>34.89</td><td>17.0</td><td>2556.0</td><td>587.0</td><td>1005.0</td><td>401.0</td><td>1.6991</td><td>69100.0</td><td>2.506234413965087</td><td>0</td></tr>\n",
              "<tr><td>-114.65</td><td>33.6</td><td>28.0</td><td>1678.0</td><td>322.0</td><td>666.0</td><td>256.0</td><td>2.9653</td><td>94900.0</td><td>2.6015625</td><td>0</td></tr>\n",
              "<tr><td>-114.65</td><td>32.79</td><td>21.0</td><td>44.0</td><td>33.0</td><td>64.0</td><td>27.0</td><td>0.8571</td><td>25000.0</td><td>2.3703703703703702</td><td>0</td></tr>\n",
              "<tr><td>-114.66</td><td>32.74</td><td>17.0</td><td>1388.0</td><td>386.0</td><td>775.0</td><td>320.0</td><td>1.2049</td><td>44000.0</td><td>2.421875</td><td>0</td></tr>\n",
              "<tr><td>-114.67</td><td>33.92</td><td>17.0</td><td>97.0</td><td>24.0</td><td>29.0</td><td>15.0</td><td>1.2656</td><td>27500.0</td><td>1.9333333333333333</td><td>0</td></tr>\n",
              "</table>\n",
              "only showing top 20 rows\n"
            ]
          },
          "metadata": {},
          "execution_count": 42
        }
      ]
    },
    {
      "cell_type": "code",
      "source": [
        "df_spark = df_spark.withColumnRenamed('mean_people_per_household', 'new_mean_people_per_household')"
      ],
      "metadata": {
        "id": "-gB3vaJ5GRxW"
      },
      "execution_count": null,
      "outputs": []
    },
    {
      "cell_type": "code",
      "source": [
        "df_spark = df_spark.drop('new_mean_people_per_household')\n"
      ],
      "metadata": {
        "id": "ObkLAakySxpt"
      },
      "execution_count": null,
      "outputs": []
    },
    {
      "cell_type": "code",
      "source": [
        "df_spark.show(5)"
      ],
      "metadata": {
        "colab": {
          "base_uri": "https://localhost:8080/"
        },
        "id": "73p8h2FxSxlq",
        "outputId": "3042c9c6-73e1-40a2-d9d7-ae0c408c2960"
      },
      "execution_count": null,
      "outputs": [
        {
          "output_type": "stream",
          "name": "stdout",
          "text": [
            "+---------+--------+------------------+-----------+--------------+----------+----------+-------------+------------------+\n",
            "|longitude|latitude|housing_median_age|total_rooms|total_bedrooms|population|households|median_income|median_house_value|\n",
            "+---------+--------+------------------+-----------+--------------+----------+----------+-------------+------------------+\n",
            "|  -114.31|   34.19|              15.0|     5612.0|        1283.0|    1015.0|     472.0|       1.4936|           66900.0|\n",
            "|  -114.47|    34.4|              19.0|     7650.0|        1901.0|    1129.0|     463.0|         1.82|           80100.0|\n",
            "|  -114.56|   33.69|              17.0|      720.0|         174.0|     333.0|     117.0|       1.6509|           85700.0|\n",
            "|  -114.57|   33.64|              14.0|     1501.0|         337.0|     515.0|     226.0|       3.1917|           73400.0|\n",
            "|  -114.57|   33.57|              20.0|     1454.0|         326.0|     624.0|     262.0|        1.925|           65500.0|\n",
            "+---------+--------+------------------+-----------+--------------+----------+----------+-------------+------------------+\n",
            "only showing top 5 rows\n",
            "\n"
          ]
        }
      ]
    },
    {
      "cell_type": "code",
      "source": [
        "from pyspark.sql.functions import min, max\n",
        "df_spark.select(min(col('housing_median_age')))"
      ],
      "metadata": {
        "colab": {
          "base_uri": "https://localhost:8080/",
          "height": 67
        },
        "id": "wBuVOrtYSxeo",
        "outputId": "b824bb56-317c-4b42-df12-77ba5056684d"
      },
      "execution_count": null,
      "outputs": [
        {
          "output_type": "execute_result",
          "data": {
            "text/plain": [
              "+-----------------------+\n",
              "|min(housing_median_age)|\n",
              "+-----------------------+\n",
              "|                    1.0|\n",
              "+-----------------------+"
            ],
            "text/html": [
              "<table border='1'>\n",
              "<tr><th>min(housing_median_age)</th></tr>\n",
              "<tr><td>1.0</td></tr>\n",
              "</table>\n"
            ]
          },
          "metadata": {},
          "execution_count": 52
        }
      ]
    },
    {
      "cell_type": "code",
      "source": [
        "df_spark.select(max(col('housing_median_age')))"
      ],
      "metadata": {
        "colab": {
          "base_uri": "https://localhost:8080/",
          "height": 67
        },
        "id": "QVfEiDGjSxbZ",
        "outputId": "b5fb808d-4f0f-4be9-e978-be4771340b33"
      },
      "execution_count": null,
      "outputs": [
        {
          "output_type": "execute_result",
          "data": {
            "text/plain": [
              "+-----------------------+\n",
              "|max(housing_median_age)|\n",
              "+-----------------------+\n",
              "|                   52.0|\n",
              "+-----------------------+"
            ],
            "text/html": [
              "<table border='1'>\n",
              "<tr><th>max(housing_median_age)</th></tr>\n",
              "<tr><td>52.0</td></tr>\n",
              "</table>\n"
            ]
          },
          "metadata": {},
          "execution_count": 53
        }
      ]
    },
    {
      "cell_type": "code",
      "source": [
        "# User Defined Functions"
      ],
      "metadata": {
        "id": "Ldyx_rQkSxYC"
      },
      "execution_count": null,
      "outputs": []
    },
    {
      "cell_type": "code",
      "source": [
        "def squared(s):\n",
        "  return s + s\n",
        "spark.udf.register(\"squaredWithPython\", squared)"
      ],
      "metadata": {
        "colab": {
          "base_uri": "https://localhost:8080/"
        },
        "id": "zeOCKSqrWwBi",
        "outputId": "dbf5f247-d35a-4f3d-ebf7-0d1784712b0b"
      },
      "execution_count": null,
      "outputs": [
        {
          "output_type": "execute_result",
          "data": {
            "text/plain": [
              "<function __main__.squared(s)>"
            ]
          },
          "metadata": {},
          "execution_count": 63
        }
      ]
    },
    {
      "cell_type": "code",
      "source": [
        "from pyspark.sql.functions import udf\n",
        "from pyspark.sql.types import LongType\n",
        "squared_udf = udf(squared, LongType())\n",
        "\n",
        "df_spark.select(squared_udf(col('housing_median_age'))).show()"
      ],
      "metadata": {
        "colab": {
          "base_uri": "https://localhost:8080/"
        },
        "id": "hIvwg6fLSxUC",
        "outputId": "efdf5857-db3d-40e4-e0e5-2ee39db709b7"
      },
      "execution_count": null,
      "outputs": [
        {
          "output_type": "stream",
          "name": "stdout",
          "text": [
            "+---------------------------+\n",
            "|squared(housing_median_age)|\n",
            "+---------------------------+\n",
            "|                       null|\n",
            "|                       null|\n",
            "|                       null|\n",
            "|                       null|\n",
            "|                       null|\n",
            "|                       null|\n",
            "|                       null|\n",
            "|                       null|\n",
            "|                       null|\n",
            "|                       null|\n",
            "|                       null|\n",
            "|                       null|\n",
            "|                       null|\n",
            "|                       null|\n",
            "|                       null|\n",
            "|                       null|\n",
            "|                       null|\n",
            "|                       null|\n",
            "|                       null|\n",
            "|                       null|\n",
            "+---------------------------+\n",
            "only showing top 20 rows\n",
            "\n"
          ]
        }
      ]
    },
    {
      "cell_type": "code",
      "source": [
        "from pyspark.ml.feature import PCA"
      ],
      "metadata": {
        "id": "gx_A-0BDiIAT"
      },
      "execution_count": null,
      "outputs": []
    },
    {
      "cell_type": "code",
      "source": [
        "from pyspark.ml.feature import VectorAssembler\n",
        "\n",
        "# Make a VectorAssembler\n",
        "vec_assembler = VectorAssembler(inputCols=['housing_median_age', 'total_rooms', 'total_bedrooms', 'households'],\n",
        "                                outputCol='input_features')"
      ],
      "metadata": {
        "id": "sexKVy2AjlUF"
      },
      "execution_count": null,
      "outputs": []
    },
    {
      "cell_type": "code",
      "source": [
        "pca = PCA(k=2,inputCol=\"input_features\")"
      ],
      "metadata": {
        "id": "ELQlUTITjSwv"
      },
      "execution_count": null,
      "outputs": []
    },
    {
      "cell_type": "code",
      "source": [
        "pca.setOutputCol(\"pca_features\")"
      ],
      "metadata": {
        "colab": {
          "base_uri": "https://localhost:8080/"
        },
        "id": "Kz23bufojgNg",
        "outputId": "d3360385-a13a-4cda-c3c8-9cf34ba5cdd1"
      },
      "execution_count": null,
      "outputs": [
        {
          "output_type": "execute_result",
          "data": {
            "text/plain": [
              "PCA_4014ce65fb1b"
            ]
          },
          "metadata": {},
          "execution_count": 10
        }
      ]
    },
    {
      "cell_type": "code",
      "source": [
        "df_with_vec = vec_assembler.transform(df_spark)"
      ],
      "metadata": {
        "id": "ZHmcIjMpnqRt"
      },
      "execution_count": null,
      "outputs": []
    },
    {
      "cell_type": "code",
      "source": [
        "model = pca.fit(df_with_vec)"
      ],
      "metadata": {
        "id": "aQvCuF5_lgHa"
      },
      "execution_count": null,
      "outputs": []
    },
    {
      "cell_type": "code",
      "source": [
        "df_with_vec.show()"
      ],
      "metadata": {
        "colab": {
          "base_uri": "https://localhost:8080/"
        },
        "id": "UKBTW7YXnn6w",
        "outputId": "fa48cee3-1bac-4d1a-a794-8fc949564900"
      },
      "execution_count": null,
      "outputs": [
        {
          "output_type": "stream",
          "name": "stdout",
          "text": [
            "+---------+--------+------------------+-----------+--------------+----------+----------+-------------+------------------+--------------------+\n",
            "|longitude|latitude|housing_median_age|total_rooms|total_bedrooms|population|households|median_income|median_house_value|      input_features|\n",
            "+---------+--------+------------------+-----------+--------------+----------+----------+-------------+------------------+--------------------+\n",
            "|  -114.31|   34.19|              15.0|     5612.0|        1283.0|    1015.0|     472.0|       1.4936|           66900.0|[15.0,5612.0,1283...|\n",
            "|  -114.47|    34.4|              19.0|     7650.0|        1901.0|    1129.0|     463.0|         1.82|           80100.0|[19.0,7650.0,1901...|\n",
            "|  -114.56|   33.69|              17.0|      720.0|         174.0|     333.0|     117.0|       1.6509|           85700.0|[17.0,720.0,174.0...|\n",
            "|  -114.57|   33.64|              14.0|     1501.0|         337.0|     515.0|     226.0|       3.1917|           73400.0|[14.0,1501.0,337....|\n",
            "|  -114.57|   33.57|              20.0|     1454.0|         326.0|     624.0|     262.0|        1.925|           65500.0|[20.0,1454.0,326....|\n",
            "|  -114.58|   33.63|              29.0|     1387.0|         236.0|     671.0|     239.0|       3.3438|           74000.0|[29.0,1387.0,236....|\n",
            "|  -114.58|   33.61|              25.0|     2907.0|         680.0|    1841.0|     633.0|       2.6768|           82400.0|[25.0,2907.0,680....|\n",
            "|  -114.59|   34.83|              41.0|      812.0|         168.0|     375.0|     158.0|       1.7083|           48500.0|[41.0,812.0,168.0...|\n",
            "|  -114.59|   33.61|              34.0|     4789.0|        1175.0|    3134.0|    1056.0|       2.1782|           58400.0|[34.0,4789.0,1175...|\n",
            "|   -114.6|   34.83|              46.0|     1497.0|         309.0|     787.0|     271.0|       2.1908|           48100.0|[46.0,1497.0,309....|\n",
            "|   -114.6|   33.62|              16.0|     3741.0|         801.0|    2434.0|     824.0|       2.6797|           86500.0|[16.0,3741.0,801....|\n",
            "|   -114.6|    33.6|              21.0|     1988.0|         483.0|    1182.0|     437.0|        1.625|           62000.0|[21.0,1988.0,483....|\n",
            "|  -114.61|   34.84|              48.0|     1291.0|         248.0|     580.0|     211.0|       2.1571|           48600.0|[48.0,1291.0,248....|\n",
            "|  -114.61|   34.83|              31.0|     2478.0|         464.0|    1346.0|     479.0|        3.212|           70400.0|[31.0,2478.0,464....|\n",
            "|  -114.63|   32.76|              15.0|     1448.0|         378.0|     949.0|     300.0|       0.8585|           45000.0|[15.0,1448.0,378....|\n",
            "|  -114.65|   34.89|              17.0|     2556.0|         587.0|    1005.0|     401.0|       1.6991|           69100.0|[17.0,2556.0,587....|\n",
            "|  -114.65|    33.6|              28.0|     1678.0|         322.0|     666.0|     256.0|       2.9653|           94900.0|[28.0,1678.0,322....|\n",
            "|  -114.65|   32.79|              21.0|       44.0|          33.0|      64.0|      27.0|       0.8571|           25000.0|[21.0,44.0,33.0,2...|\n",
            "|  -114.66|   32.74|              17.0|     1388.0|         386.0|     775.0|     320.0|       1.2049|           44000.0|[17.0,1388.0,386....|\n",
            "|  -114.67|   33.92|              17.0|       97.0|          24.0|      29.0|      15.0|       1.2656|           27500.0|[17.0,97.0,24.0,1...|\n",
            "+---------+--------+------------------+-----------+--------------+----------+----------+-------------+------------------+--------------------+\n",
            "only showing top 20 rows\n",
            "\n"
          ]
        }
      ]
    },
    {
      "cell_type": "code",
      "source": [
        "model.explainedVariance"
      ],
      "metadata": {
        "colab": {
          "base_uri": "https://localhost:8080/"
        },
        "id": "jAv69jOmm3F7",
        "outputId": "cbe242cc-a1dd-4bff-fb7a-f258ad0025fa"
      },
      "execution_count": null,
      "outputs": [
        {
          "output_type": "execute_result",
          "data": {
            "text/plain": [
              "DenseVector([0.9911, 0.0083])"
            ]
          },
          "metadata": {},
          "execution_count": 14
        }
      ]
    },
    {
      "cell_type": "code",
      "source": [
        "model_with_output = model.transform(df_with_vec)"
      ],
      "metadata": {
        "id": "gSozUft5njUT"
      },
      "execution_count": null,
      "outputs": []
    },
    {
      "cell_type": "code",
      "source": [
        "model_with_output.show()"
      ],
      "metadata": {
        "colab": {
          "base_uri": "https://localhost:8080/"
        },
        "id": "8TQGJNXQoNh1",
        "outputId": "489860c8-1876-42e3-daac-0ca87890cea0"
      },
      "execution_count": null,
      "outputs": [
        {
          "output_type": "stream",
          "name": "stdout",
          "text": [
            "+---------+--------+------------------+-----------+--------------+----------+----------+-------------+------------------+--------------------+--------------------+\n",
            "|longitude|latitude|housing_median_age|total_rooms|total_bedrooms|population|households|median_income|median_house_value|      input_features|        pca_features|\n",
            "+---------+--------+------------------+-----------+--------------+----------+----------+-------------+------------------+--------------------+--------------------+\n",
            "|  -114.31|   34.19|              15.0|     5612.0|        1283.0|    1015.0|     472.0|       1.4936|           66900.0|[15.0,5612.0,1283...|[5752.67590206979...|\n",
            "|  -114.47|    34.4|              19.0|     7650.0|        1901.0|    1129.0|     463.0|         1.82|           80100.0|[19.0,7650.0,1901...|[7839.84364603617...|\n",
            "|  -114.56|   33.69|              17.0|      720.0|         174.0|     333.0|     117.0|       1.6509|           85700.0|[17.0,720.0,174.0...|[748.641345763431...|\n",
            "|  -114.57|   33.64|              14.0|     1501.0|         337.0|     515.0|     226.0|       3.1917|           73400.0|[14.0,1501.0,337....|[1553.37759016468...|\n",
            "|  -114.57|   33.57|              20.0|     1454.0|         326.0|     624.0|     262.0|        1.925|           65500.0|[20.0,1454.0,326....|[1511.49207674897...|\n",
            "|  -114.58|   33.63|              29.0|     1387.0|         236.0|     671.0|     239.0|       3.3438|           74000.0|[29.0,1387.0,236....|[1426.89731577453...|\n",
            "|  -114.58|   33.61|              25.0|     2907.0|         680.0|    1841.0|     633.0|       2.6768|           82400.0|[25.0,2907.0,680....|[3044.29191893659...|\n",
            "|  -114.59|   34.83|              41.0|      812.0|         168.0|     375.0|     158.0|       1.7083|           48500.0|[41.0,812.0,168.0...|[843.430913912429...|\n",
            "|  -114.59|   33.61|              34.0|     4789.0|        1175.0|    3134.0|    1056.0|       2.1782|           58400.0|[34.0,4789.0,1175...|[5026.92006743418...|\n",
            "|   -114.6|   34.83|              46.0|     1497.0|         309.0|     787.0|     271.0|       2.1908|           48100.0|[46.0,1497.0,309....|[1551.65376884917...|\n",
            "|   -114.6|   33.62|              16.0|     3741.0|         801.0|    2434.0|     824.0|       2.6797|           86500.0|[16.0,3741.0,801....|[3906.17387944769...|\n",
            "|   -114.6|    33.6|              21.0|     1988.0|         483.0|    1182.0|     437.0|        1.625|           62000.0|[21.0,1988.0,483....|[2085.69619007283...|\n",
            "|  -114.61|   34.84|              48.0|     1291.0|         248.0|     580.0|     211.0|       2.1571|           48600.0|[48.0,1291.0,248....|[1331.25656726027...|\n",
            "|  -114.61|   34.83|              31.0|     2478.0|         464.0|    1346.0|     479.0|        3.212|           70400.0|[31.0,2478.0,464....|[2565.03954386277...|\n",
            "|  -114.63|   32.76|              15.0|     1448.0|         378.0|     949.0|     300.0|       0.8585|           45000.0|[15.0,1448.0,378....|[1520.85962685931...|\n",
            "|  -114.65|   34.89|              17.0|     2556.0|         587.0|    1005.0|     401.0|       1.6991|           69100.0|[17.0,2556.0,587....|[2650.08334107430...|\n",
            "|  -114.65|    33.6|              28.0|     1678.0|         322.0|     666.0|     256.0|       2.9653|           94900.0|[28.0,1678.0,322....|[1727.43266474232...|\n",
            "|  -114.65|   32.79|              21.0|       44.0|          33.0|      64.0|      27.0|       0.8571|           25000.0|[21.0,44.0,33.0,2...|[52.7992097743888...|\n",
            "|  -114.66|   32.74|              17.0|     1388.0|         386.0|     775.0|     320.0|       1.2049|           44000.0|[17.0,1388.0,386....|[1467.15202807438...|\n",
            "|  -114.67|   33.92|              17.0|       97.0|          24.0|      29.0|      15.0|       1.2656|           27500.0|[17.0,97.0,24.0,1...|[100.805970616568...|\n",
            "+---------+--------+------------------+-----------+--------------+----------+----------+-------------+------------------+--------------------+--------------------+\n",
            "only showing top 20 rows\n",
            "\n"
          ]
        }
      ]
    },
    {
      "cell_type": "code",
      "source": [
        "import matplotlib.pyplot as plt"
      ],
      "metadata": {
        "id": "WnZLAY3K1NjN"
      },
      "execution_count": null,
      "outputs": []
    },
    {
      "cell_type": "code",
      "source": [
        "pca_component1  = model_with_output.select(\"pca_features\").rdd.map(lambda x: x.pca_features[0]).collect()\n",
        "pca_component2  = model_with_output.select(\"pca_features\").rdd.map(lambda x: x.pca_features[1]).collect()"
      ],
      "metadata": {
        "id": "AL126LqT2sSh"
      },
      "execution_count": null,
      "outputs": []
    },
    {
      "cell_type": "code",
      "source": [
        "model.pc"
      ],
      "metadata": {
        "colab": {
          "base_uri": "https://localhost:8080/"
        },
        "id": "vQxcKGJK2XXV",
        "outputId": "f80b8ee8-05f4-4fbc-85c7-8d7f47488c7a"
      },
      "execution_count": null,
      "outputs": [
        {
          "output_type": "execute_result",
          "data": {
            "text/plain": [
              "DenseMatrix(4, 2, [-0.002, 0.9715, 0.1759, 0.1589, -0.0041, 0.2369, -0.6983, -0.6754], 0)"
            ]
          },
          "metadata": {},
          "execution_count": 37
        }
      ]
    },
    {
      "cell_type": "code",
      "source": [
        "x = pca_component1\n",
        "y = pca_component2\n",
        "plt.plot(x,y,'.')"
      ],
      "metadata": {
        "id": "8PAeyfrr1pEw",
        "colab": {
          "base_uri": "https://localhost:8080/",
          "height": 447
        },
        "outputId": "48c78a4d-e149-44a6-bcdd-3bdd8d4f33b0"
      },
      "execution_count": null,
      "outputs": [
        {
          "output_type": "execute_result",
          "data": {
            "text/plain": [
              "[<matplotlib.lines.Line2D at 0x7b1935fbbeb0>]"
            ]
          },
          "metadata": {},
          "execution_count": 36
        },
        {
          "output_type": "display_data",
          "data": {
            "text/plain": [
              "<Figure size 640x480 with 1 Axes>"
            ],
            "image/png": "[encoded data removed]"
          },
          "metadata": {}
        }
      ]
    },
    {
      "cell_type": "code",
      "source": [
        "model_with_output.select(\"input_features\").dot(model.pc)"
      ],
      "metadata": {
        "colab": {
          "base_uri": "https://localhost:8080/",
          "height": 297
        },
        "id": "zHrSXX8h78t_",
        "outputId": "46d9b6bd-790c-4795-e2c5-2bb3aea3e886"
      },
      "execution_count": null,
      "outputs": [
        {
          "output_type": "error",
          "ename": "AttributeError",
          "evalue": "ignored",
          "traceback": [
            "\u001b[0;31m---------------------------------------------------------------------------\u001b[0m",
            "\u001b[0;31mAttributeError\u001b[0m                            Traceback (most recent call last)",
            "\u001b[0;32m<ipython-input-38-9cb69717be31>\u001b[0m in \u001b[0;36m<cell line: 1>\u001b[0;34m()\u001b[0m\n\u001b[0;32m----> 1\u001b[0;31m \u001b[0mmodel_with_output\u001b[0m\u001b[0;34m.\u001b[0m\u001b[0mselect\u001b[0m\u001b[0;34m(\u001b[0m\u001b[0;34m\"input_features\"\u001b[0m\u001b[0;34m)\u001b[0m\u001b[0;34m.\u001b[0m\u001b[0mdot\u001b[0m\u001b[0;34m(\u001b[0m\u001b[0mmodel\u001b[0m\u001b[0;34m.\u001b[0m\u001b[0mpc\u001b[0m\u001b[0;34m)\u001b[0m\u001b[0;34m\u001b[0m\u001b[0;34m\u001b[0m\u001b[0m\n\u001b[0m",
            "\u001b[0;32m/content/spark-3.3.3-bin-hadoop3/python/pyspark/sql/dataframe.py\u001b[0m in \u001b[0;36m__getattr__\u001b[0;34m(self, name)\u001b[0m\n\u001b[1;32m   1986\u001b[0m         \"\"\"\n\u001b[1;32m   1987\u001b[0m         \u001b[0;32mif\u001b[0m \u001b[0mname\u001b[0m \u001b[0;32mnot\u001b[0m \u001b[0;32min\u001b[0m \u001b[0mself\u001b[0m\u001b[0;34m.\u001b[0m\u001b[0mcolumns\u001b[0m\u001b[0;34m:\u001b[0m\u001b[0;34m\u001b[0m\u001b[0;34m\u001b[0m\u001b[0m\n\u001b[0;32m-> 1988\u001b[0;31m             raise AttributeError(\n\u001b[0m\u001b[1;32m   1989\u001b[0m                 \u001b[0;34m\"'%s' object has no attribute '%s'\"\u001b[0m \u001b[0;34m%\u001b[0m \u001b[0;34m(\u001b[0m\u001b[0mself\u001b[0m\u001b[0;34m.\u001b[0m\u001b[0m__class__\u001b[0m\u001b[0;34m.\u001b[0m\u001b[0m__name__\u001b[0m\u001b[0;34m,\u001b[0m \u001b[0mname\u001b[0m\u001b[0;34m)\u001b[0m\u001b[0;34m\u001b[0m\u001b[0;34m\u001b[0m\u001b[0m\n\u001b[1;32m   1990\u001b[0m             )\n",
            "\u001b[0;31mAttributeError\u001b[0m: 'DataFrame' object has no attribute 'dot'"
          ]
        }
      ]
    },
    {
      "cell_type": "code",
      "source": [
        "plt.hist(df_spark.select('housing_median_age').toPandas())"
      ],
      "metadata": {
        "id": "MaQVSyRZ3A6-",
        "colab": {
          "base_uri": "https://localhost:8080/",
          "height": 499
        },
        "outputId": "3b04c304-9d5e-4a33-c7fe-42275deff22e"
      },
      "execution_count": null,
      "outputs": [
        {
          "output_type": "execute_result",
          "data": {
            "text/plain": [
              "(array([ 586.,  935., 1839., 2222., 2058., 1939., 2945., 1538., 1321.,\n",
              "        1617.]),\n",
              " array([ 1. ,  6.1, 11.2, 16.3, 21.4, 26.5, 31.6, 36.7, 41.8, 46.9, 52. ]),\n",
              " <BarContainer object of 10 artists>)"
            ]
          },
          "metadata": {},
          "execution_count": 50
        },
        {
          "output_type": "display_data",
          "data": {
            "text/plain": [
              "<Figure size 640x480 with 1 Axes>"
            ],
            "image/png": "[encoded data removed]"
          },
          "metadata": {}
        }
      ]
    }
  ]
}